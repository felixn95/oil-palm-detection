{
  "nbformat": 4,
  "nbformat_minor": 0,
  "metadata": {
    "colab": {
      "provenance": [],
      "gpuType": "T4"
    },
    "kernelspec": {
      "name": "python3",
      "display_name": "Python 3"
    },
    "language_info": {
      "name": "python"
    },
    "accelerator": "GPU",
    "widgets": {
      "application/vnd.jupyter.widget-state+json": {
        "b842e9229eb542df9ffdfab8f1ac339e": {
          "model_module": "@jupyter-widgets/controls",
          "model_name": "HBoxModel",
          "model_module_version": "1.5.0",
          "state": {
            "_dom_classes": [],
            "_model_module": "@jupyter-widgets/controls",
            "_model_module_version": "1.5.0",
            "_model_name": "HBoxModel",
            "_view_count": null,
            "_view_module": "@jupyter-widgets/controls",
            "_view_module_version": "1.5.0",
            "_view_name": "HBoxView",
            "box_style": "",
            "children": [
              "IPY_MODEL_c83e9169c6434e83a431c5f688b786a3",
              "IPY_MODEL_a42dbe92dfbc4d10bf68055bdcab6630",
              "IPY_MODEL_e03dcdced79c4e65a5556bb68084b3c6"
            ],
            "layout": "IPY_MODEL_bb61fdd7082643198ec8ec349a068986"
          }
        },
        "c83e9169c6434e83a431c5f688b786a3": {
          "model_module": "@jupyter-widgets/controls",
          "model_name": "HTMLModel",
          "model_module_version": "1.5.0",
          "state": {
            "_dom_classes": [],
            "_model_module": "@jupyter-widgets/controls",
            "_model_module_version": "1.5.0",
            "_model_name": "HTMLModel",
            "_view_count": null,
            "_view_module": "@jupyter-widgets/controls",
            "_view_module_version": "1.5.0",
            "_view_name": "HTMLView",
            "description": "",
            "description_tooltip": null,
            "layout": "IPY_MODEL_c2737589c4c94696b28c47ae04ea8b2b",
            "placeholder": "​",
            "style": "IPY_MODEL_27f97085bea54e738ebe81b93222f982",
            "value": "model.safetensors: 100%"
          }
        },
        "a42dbe92dfbc4d10bf68055bdcab6630": {
          "model_module": "@jupyter-widgets/controls",
          "model_name": "FloatProgressModel",
          "model_module_version": "1.5.0",
          "state": {
            "_dom_classes": [],
            "_model_module": "@jupyter-widgets/controls",
            "_model_module_version": "1.5.0",
            "_model_name": "FloatProgressModel",
            "_view_count": null,
            "_view_module": "@jupyter-widgets/controls",
            "_view_module_version": "1.5.0",
            "_view_name": "ProgressView",
            "bar_style": "success",
            "description": "",
            "description_tooltip": null,
            "layout": "IPY_MODEL_66ddd9ba9bdc41ea9ab513d19f99b289",
            "max": 102469840,
            "min": 0,
            "orientation": "horizontal",
            "style": "IPY_MODEL_ddfa1d7f7294403cacab4b2813bd2aa2",
            "value": 102469840
          }
        },
        "e03dcdced79c4e65a5556bb68084b3c6": {
          "model_module": "@jupyter-widgets/controls",
          "model_name": "HTMLModel",
          "model_module_version": "1.5.0",
          "state": {
            "_dom_classes": [],
            "_model_module": "@jupyter-widgets/controls",
            "_model_module_version": "1.5.0",
            "_model_name": "HTMLModel",
            "_view_count": null,
            "_view_module": "@jupyter-widgets/controls",
            "_view_module_version": "1.5.0",
            "_view_name": "HTMLView",
            "description": "",
            "description_tooltip": null,
            "layout": "IPY_MODEL_a5610f4137cc480db088ec1a5649686f",
            "placeholder": "​",
            "style": "IPY_MODEL_0e1a51f68420481eb62128ab23857f4c",
            "value": " 102M/102M [00:00&lt;00:00, 206MB/s]"
          }
        },
        "bb61fdd7082643198ec8ec349a068986": {
          "model_module": "@jupyter-widgets/base",
          "model_name": "LayoutModel",
          "model_module_version": "1.2.0",
          "state": {
            "_model_module": "@jupyter-widgets/base",
            "_model_module_version": "1.2.0",
            "_model_name": "LayoutModel",
            "_view_count": null,
            "_view_module": "@jupyter-widgets/base",
            "_view_module_version": "1.2.0",
            "_view_name": "LayoutView",
            "align_content": null,
            "align_items": null,
            "align_self": null,
            "border": null,
            "bottom": null,
            "display": null,
            "flex": null,
            "flex_flow": null,
            "grid_area": null,
            "grid_auto_columns": null,
            "grid_auto_flow": null,
            "grid_auto_rows": null,
            "grid_column": null,
            "grid_gap": null,
            "grid_row": null,
            "grid_template_areas": null,
            "grid_template_columns": null,
            "grid_template_rows": null,
            "height": null,
            "justify_content": null,
            "justify_items": null,
            "left": null,
            "margin": null,
            "max_height": null,
            "max_width": null,
            "min_height": null,
            "min_width": null,
            "object_fit": null,
            "object_position": null,
            "order": null,
            "overflow": null,
            "overflow_x": null,
            "overflow_y": null,
            "padding": null,
            "right": null,
            "top": null,
            "visibility": null,
            "width": null
          }
        },
        "c2737589c4c94696b28c47ae04ea8b2b": {
          "model_module": "@jupyter-widgets/base",
          "model_name": "LayoutModel",
          "model_module_version": "1.2.0",
          "state": {
            "_model_module": "@jupyter-widgets/base",
            "_model_module_version": "1.2.0",
            "_model_name": "LayoutModel",
            "_view_count": null,
            "_view_module": "@jupyter-widgets/base",
            "_view_module_version": "1.2.0",
            "_view_name": "LayoutView",
            "align_content": null,
            "align_items": null,
            "align_self": null,
            "border": null,
            "bottom": null,
            "display": null,
            "flex": null,
            "flex_flow": null,
            "grid_area": null,
            "grid_auto_columns": null,
            "grid_auto_flow": null,
            "grid_auto_rows": null,
            "grid_column": null,
            "grid_gap": null,
            "grid_row": null,
            "grid_template_areas": null,
            "grid_template_columns": null,
            "grid_template_rows": null,
            "height": null,
            "justify_content": null,
            "justify_items": null,
            "left": null,
            "margin": null,
            "max_height": null,
            "max_width": null,
            "min_height": null,
            "min_width": null,
            "object_fit": null,
            "object_position": null,
            "order": null,
            "overflow": null,
            "overflow_x": null,
            "overflow_y": null,
            "padding": null,
            "right": null,
            "top": null,
            "visibility": null,
            "width": null
          }
        },
        "27f97085bea54e738ebe81b93222f982": {
          "model_module": "@jupyter-widgets/controls",
          "model_name": "DescriptionStyleModel",
          "model_module_version": "1.5.0",
          "state": {
            "_model_module": "@jupyter-widgets/controls",
            "_model_module_version": "1.5.0",
            "_model_name": "DescriptionStyleModel",
            "_view_count": null,
            "_view_module": "@jupyter-widgets/base",
            "_view_module_version": "1.2.0",
            "_view_name": "StyleView",
            "description_width": ""
          }
        },
        "66ddd9ba9bdc41ea9ab513d19f99b289": {
          "model_module": "@jupyter-widgets/base",
          "model_name": "LayoutModel",
          "model_module_version": "1.2.0",
          "state": {
            "_model_module": "@jupyter-widgets/base",
            "_model_module_version": "1.2.0",
            "_model_name": "LayoutModel",
            "_view_count": null,
            "_view_module": "@jupyter-widgets/base",
            "_view_module_version": "1.2.0",
            "_view_name": "LayoutView",
            "align_content": null,
            "align_items": null,
            "align_self": null,
            "border": null,
            "bottom": null,
            "display": null,
            "flex": null,
            "flex_flow": null,
            "grid_area": null,
            "grid_auto_columns": null,
            "grid_auto_flow": null,
            "grid_auto_rows": null,
            "grid_column": null,
            "grid_gap": null,
            "grid_row": null,
            "grid_template_areas": null,
            "grid_template_columns": null,
            "grid_template_rows": null,
            "height": null,
            "justify_content": null,
            "justify_items": null,
            "left": null,
            "margin": null,
            "max_height": null,
            "max_width": null,
            "min_height": null,
            "min_width": null,
            "object_fit": null,
            "object_position": null,
            "order": null,
            "overflow": null,
            "overflow_x": null,
            "overflow_y": null,
            "padding": null,
            "right": null,
            "top": null,
            "visibility": null,
            "width": null
          }
        },
        "ddfa1d7f7294403cacab4b2813bd2aa2": {
          "model_module": "@jupyter-widgets/controls",
          "model_name": "ProgressStyleModel",
          "model_module_version": "1.5.0",
          "state": {
            "_model_module": "@jupyter-widgets/controls",
            "_model_module_version": "1.5.0",
            "_model_name": "ProgressStyleModel",
            "_view_count": null,
            "_view_module": "@jupyter-widgets/base",
            "_view_module_version": "1.2.0",
            "_view_name": "StyleView",
            "bar_color": null,
            "description_width": ""
          }
        },
        "a5610f4137cc480db088ec1a5649686f": {
          "model_module": "@jupyter-widgets/base",
          "model_name": "LayoutModel",
          "model_module_version": "1.2.0",
          "state": {
            "_model_module": "@jupyter-widgets/base",
            "_model_module_version": "1.2.0",
            "_model_name": "LayoutModel",
            "_view_count": null,
            "_view_module": "@jupyter-widgets/base",
            "_view_module_version": "1.2.0",
            "_view_name": "LayoutView",
            "align_content": null,
            "align_items": null,
            "align_self": null,
            "border": null,
            "bottom": null,
            "display": null,
            "flex": null,
            "flex_flow": null,
            "grid_area": null,
            "grid_auto_columns": null,
            "grid_auto_flow": null,
            "grid_auto_rows": null,
            "grid_column": null,
            "grid_gap": null,
            "grid_row": null,
            "grid_template_areas": null,
            "grid_template_columns": null,
            "grid_template_rows": null,
            "height": null,
            "justify_content": null,
            "justify_items": null,
            "left": null,
            "margin": null,
            "max_height": null,
            "max_width": null,
            "min_height": null,
            "min_width": null,
            "object_fit": null,
            "object_position": null,
            "order": null,
            "overflow": null,
            "overflow_x": null,
            "overflow_y": null,
            "padding": null,
            "right": null,
            "top": null,
            "visibility": null,
            "width": null
          }
        },
        "0e1a51f68420481eb62128ab23857f4c": {
          "model_module": "@jupyter-widgets/controls",
          "model_name": "DescriptionStyleModel",
          "model_module_version": "1.5.0",
          "state": {
            "_model_module": "@jupyter-widgets/controls",
            "_model_module_version": "1.5.0",
            "_model_name": "DescriptionStyleModel",
            "_view_count": null,
            "_view_module": "@jupyter-widgets/base",
            "_view_module_version": "1.2.0",
            "_view_name": "StyleView",
            "description_width": ""
          }
        }
      }
    }
  },
  "cells": [
    {
      "cell_type": "markdown",
      "source": [
        "# Notebook for Training & Tracking Models using NeptuneAI\n"
      ],
      "metadata": {
        "id": "b8UcsyxkSXtR"
      }
    },
    {
      "cell_type": "code",
      "source": [
        "!pip install torch torchvision --q"
      ],
      "metadata": {
        "id": "yUA8fws0ZMvf"
      },
      "execution_count": null,
      "outputs": []
    },
    {
      "cell_type": "code",
      "source": [
        "!pip install timm wwf fastai neptune neptune-fastai --q"
      ],
      "metadata": {
        "id": "gLwudBELXpLb",
        "colab": {
          "base_uri": "https://localhost:8080/"
        },
        "outputId": "a02c2319-5c36-405b-d0f6-bf1ea6269892"
      },
      "execution_count": null,
      "outputs": [
        {
          "output_type": "stream",
          "name": "stdout",
          "text": [
            "\u001b[2K     \u001b[90m━━━━━━━━━━━━━━━━━━━━━━━━━━━━━━━━━━━━━━━━\u001b[0m \u001b[32m2.2/2.2 MB\u001b[0m \u001b[31m9.6 MB/s\u001b[0m eta \u001b[36m0:00:00\u001b[0m\n",
            "\u001b[2K     \u001b[90m━━━━━━━━━━━━━━━━━━━━━━━━━━━━━━━━━━━━━━━━\u001b[0m \u001b[32m481.5/481.5 kB\u001b[0m \u001b[31m16.2 MB/s\u001b[0m eta \u001b[36m0:00:00\u001b[0m\n",
            "\u001b[2K     \u001b[90m━━━━━━━━━━━━━━━━━━━━━━━━━━━━━━━━━━━━━━━━\u001b[0m \u001b[32m196.4/196.4 kB\u001b[0m \u001b[31m14.0 MB/s\u001b[0m eta \u001b[36m0:00:00\u001b[0m\n",
            "\u001b[2K     \u001b[90m━━━━━━━━━━━━━━━━━━━━━━━━━━━━━━━━━━━━━━━━\u001b[0m \u001b[32m139.3/139.3 kB\u001b[0m \u001b[31m19.9 MB/s\u001b[0m eta \u001b[36m0:00:00\u001b[0m\n",
            "\u001b[2K     \u001b[90m━━━━━━━━━━━━━━━━━━━━━━━━━━━━━━━━━━━━━━━━\u001b[0m \u001b[32m11.9/11.9 MB\u001b[0m \u001b[31m32.0 MB/s\u001b[0m eta \u001b[36m0:00:00\u001b[0m\n",
            "\u001b[2K     \u001b[90m━━━━━━━━━━━━━━━━━━━━━━━━━━━━━━━━━━━━━━━━\u001b[0m \u001b[32m82.1/82.1 kB\u001b[0m \u001b[31m7.9 MB/s\u001b[0m eta \u001b[36m0:00:00\u001b[0m\n",
            "\u001b[2K     \u001b[90m━━━━━━━━━━━━━━━━━━━━━━━━━━━━━━━━━━━━━━━━\u001b[0m \u001b[32m63.9/63.9 kB\u001b[0m \u001b[31m8.8 MB/s\u001b[0m eta \u001b[36m0:00:00\u001b[0m\n",
            "\u001b[?25h  Preparing metadata (setup.py) ... \u001b[?25l\u001b[?25hdone\n",
            "\u001b[2K     \u001b[90m━━━━━━━━━━━━━━━━━━━━━━━━━━━━━━━━━━━━━━━━\u001b[0m \u001b[32m137.9/137.9 kB\u001b[0m \u001b[31m6.8 MB/s\u001b[0m eta \u001b[36m0:00:00\u001b[0m\n",
            "\u001b[2K     \u001b[90m━━━━━━━━━━━━━━━━━━━━━━━━━━━━━━━━━━━━━━━━\u001b[0m \u001b[32m62.7/62.7 kB\u001b[0m \u001b[31m3.9 MB/s\u001b[0m eta \u001b[36m0:00:00\u001b[0m\n",
            "\u001b[2K     \u001b[90m━━━━━━━━━━━━━━━━━━━━━━━━━━━━━━━━━━━━━━━━\u001b[0m \u001b[32m66.4/66.4 kB\u001b[0m \u001b[31m5.3 MB/s\u001b[0m eta \u001b[36m0:00:00\u001b[0m\n",
            "\u001b[?25h  Building wheel for bravado-core (setup.py) ... \u001b[?25l\u001b[?25hdone\n"
          ]
        }
      ]
    },
    {
      "cell_type": "code",
      "execution_count": null,
      "metadata": {
        "colab": {
          "base_uri": "https://localhost:8080/"
        },
        "id": "Bn02B5auSPLW",
        "outputId": "1cfd0c7c-88b9-4ced-a52e-9898b96e50c2"
      },
      "outputs": [
        {
          "output_type": "stream",
          "name": "stdout",
          "text": [
            "Downloading widsdatathon2019.zip to /content\n",
            " 98% 449M/460M [00:04<00:00, 102MB/s]\n",
            "100% 460M/460M [00:05<00:00, 95.9MB/s]\n"
          ]
        }
      ],
      "source": [
        "import os\n",
        "\n",
        "# load data set & unzip\n",
        "os.environ['KAGGLE_USERNAME'] = 'felixn95'\n",
        "os.environ['KAGGLE_KEY'] = 'INSERT-KEY'\n",
        "\n",
        "!kaggle competitions download -c widsdatathon2019\n",
        "!unzip -q widsdatathon2019.zip\n",
        "!unzip -q train_images.zip\n",
        "!unzip -q leaderboard_test_data.zip\n",
        "\n",
        "# Define Paths\n",
        "train_images = '/content/train_images'\n",
        "test_images =  '/content/leaderboard_test_data'\n",
        "train_labels = '/content/traininglabels.csv'\n",
        "test_labels = '/content/testlabels.csv'\n"
      ]
    },
    {
      "cell_type": "markdown",
      "source": [
        "The labeled images in the labels csv's do not fit to the image ids, because we need to remove the year at the end of the string in each row."
      ],
      "metadata": {
        "id": "Am5Bj9PLSiQj"
      }
    },
    {
      "cell_type": "code",
      "source": [
        "import pandas as pd\n",
        "import os\n",
        "\n",
        "def adjust_image_ids(input_csv_path, output_csv_path):\n",
        "    \"\"\"\n",
        "    Adjusts the image_ids in the input CSV file by removing the year digits before '.jpg'\n",
        "    and saves the modified DataFrame to the output CSV path.\n",
        "    \"\"\"\n",
        "\n",
        "    df = pd.read_csv(input_csv_path)\n",
        "\n",
        "    # Modify the 'image_id' column\n",
        "    df['image_id'] = df['image_id'].str.replace(r'\\d{4}\\.jpg', '.jpg', regex=True)\n",
        "\n",
        "    # Save to the output CSV file\n",
        "    df.to_csv(output_csv_path, index=False)\n",
        "\n",
        "\n",
        "adjust_image_ids(train_labels, 'traininglabels_processed.csv')\n",
        "adjust_image_ids(test_labels, 'testlabels_processed.csv')\n",
        "\n",
        "train_labels = '/content/traininglabels_processed.csv'\n",
        "test_labels = '/content/testlabels_processed.csv'\n",
        "\n",
        "def filter_missing_images(csv_file, image_dir, target_file):\n",
        "    # Read the CSV file\n",
        "    df = pd.read_csv(csv_file)\n",
        "\n",
        "    # Filter out rows where the image file does not exist\n",
        "    df_filtered = df[df['image_id'].apply(lambda x: os.path.exists(os.path.join(image_dir, x)))]\n",
        "\n",
        "    # Save the filtered DataFrame\n",
        "    df_filtered.to_csv(target_file, index=False)\n",
        "\n",
        "filter_missing_images(train_labels, train_images, '/content/train_labels_filtered.csv')\n",
        "filter_missing_images(test_labels, test_images, '/content/test_labels_filtered.csv')\n",
        "\n",
        "train_labels = '/content/train_labels_filtered.csv'\n",
        "test_labels = '/content/test_labels_filtered.csv'\n"
      ],
      "metadata": {
        "id": "RLuw8K8VSkqY"
      },
      "execution_count": null,
      "outputs": []
    },
    {
      "cell_type": "markdown",
      "source": [
        "# Training & Tracking"
      ],
      "metadata": {
        "id": "gZQXuojxS2Ie"
      }
    },
    {
      "cell_type": "code",
      "source": [
        "import os\n",
        "import neptune\n",
        "import torch\n",
        "import wwf\n",
        "import fastai\n",
        "import timm\n",
        "from wwf.vision.timm import timm_learner\n",
        "from fastai.callback.all import SaveModelCallback\n",
        "from fastai.vision.all import *\n",
        "from neptune.integrations.fastai import NeptuneCallback\n",
        "from neptune.types import File\n",
        "\n",
        "def get_x(row, train_images):\n",
        "    return os.path.join(train_images, row['image_id'])\n",
        "\n",
        "def get_y(row):\n",
        "    return row['has_oilpalm']\n",
        "\n",
        "def create_dataloader(item_size, batch_size=64):\n",
        "    # Create data block\n",
        "    palm_data_block = DataBlock(\n",
        "        blocks=(ImageBlock, CategoryBlock),\n",
        "        get_x=partial(get_x, train_images=train_images),\n",
        "        get_y=get_y,\n",
        "        splitter=RandomSplitter(valid_pct=0.2, seed=42),\n",
        "        item_tfms=Resize(item_size),\n",
        "        batch_tfms=aug_transforms()\n",
        "    )\n",
        "\n",
        "    # Create data loaders\n",
        "    dls = palm_data_block.dataloaders(pd.read_csv(train_labels), bs=batch_size)\n",
        "    return dls\n"
      ],
      "metadata": {
        "id": "a3j_ICt84PZW"
      },
      "execution_count": null,
      "outputs": []
    },
    {
      "cell_type": "markdown",
      "source": [
        "## Created Methods for easier Training and Tracking"
      ],
      "metadata": {
        "id": "OP4ZH0k8mH0y"
      }
    },
    {
      "cell_type": "code",
      "source": [
        "# Method to train and track a model with a specified model and the number of epochs\n",
        "def train_model_with_neptune(model, epochs, item_size, project_name, tag):\n",
        "\n",
        "    api_token=\"eyJhcGlfYWRkcmVzcyI6Imh0dHBzOi8vYXBwLm5lcHR1bmUuYWkiLCJhcGlfdXJsIjoiaHR0cHM6Ly9hcHAubmVwdHVuZS5haSIsImFwaV9rZXkiOiI2ZjExOTA0Yy0zZjhhLTQ3Y2MtYjYzNy1kY2Q1OGMwODAyYWUifQ==\"\n",
        "    # Initialize a run\n",
        "    run = neptune.init_run(project=project_name, api_token=api_token, tags=tag)\n",
        "\n",
        "    # Neptune callback object\n",
        "    neptune_cbk = NeptuneCallback(run=run)\n",
        "\n",
        "    # Create dls\n",
        "    dls = create_dataloader(item_size)\n",
        "\n",
        "    # Create a FastAI learner\n",
        "    learner = vision_learner(dls, arch=model, cbs=[neptune_cbk], metrics=accuracy)\n",
        "\n",
        "    # Train the model\n",
        "    learner.fit_one_cycle(epochs)\n",
        "\n",
        "    # Stop the Neptune run\n",
        "    run.stop()\n",
        "\n",
        "    learner.remove_cb(neptune_cbk)  # remove NeptuneCallback\n",
        "    learner.export(f\"./{tag}\")  # export learner\n",
        "\n",
        "def train_multiple_models_with_neptune(models, epochs_list, item_size, project_name):\n",
        "    for model in models:\n",
        "        for epochs in epochs_list:\n",
        "            # Constructs a unique tag for each training run (i.e resnet18_3_epochs)\n",
        "            tag = f'{model}_{epochs}_epochs'\n",
        "\n",
        "            # Call the training function with the current model and epoch count\n",
        "            train_model_with_neptune(model, epochs, item_size, project_name, tag)"
      ],
      "metadata": {
        "id": "D66_sPQ6mNum"
      },
      "execution_count": null,
      "outputs": []
    },
    {
      "cell_type": "code",
      "source": [
        "# Available pretrained models from fast.ai\n",
        "model_set = {\n",
        "    \"resnet18\", \"resnet34\", \"resnet50\", \"resnet101\", \"resnet152\",\n",
        "    \"squeezenet1_0\", \"squeezenet1_1\",\n",
        "    \"densenet121\", \"densenet169\", \"densenet201\", \"densenet161\",\n",
        "    \"vgg16_bn\", \"vgg19_bn\",\n",
        "    \"alexnet\"\n",
        "}"
      ],
      "metadata": {
        "id": "aw_EXpkivf9L"
      },
      "execution_count": null,
      "outputs": []
    },
    {
      "cell_type": "code",
      "source": [
        "item_size = 256\n",
        "\n",
        "models = [\"resnet50\"]  # example models\n",
        "epochs_list = [3]  # example epochs\n",
        "project_name = 'oilpalm-detection'\n",
        "\n",
        "train_multiple_models_with_neptune(models, epochs_list, item_size, project_name)\n"
      ],
      "metadata": {
        "id": "JHdhsRb3UHNh",
        "colab": {
          "base_uri": "https://localhost:8080/",
          "height": 491,
          "referenced_widgets": [
            "b842e9229eb542df9ffdfab8f1ac339e",
            "c83e9169c6434e83a431c5f688b786a3",
            "a42dbe92dfbc4d10bf68055bdcab6630",
            "e03dcdced79c4e65a5556bb68084b3c6",
            "bb61fdd7082643198ec8ec349a068986",
            "c2737589c4c94696b28c47ae04ea8b2b",
            "27f97085bea54e738ebe81b93222f982",
            "66ddd9ba9bdc41ea9ab513d19f99b289",
            "ddfa1d7f7294403cacab4b2813bd2aa2",
            "a5610f4137cc480db088ec1a5649686f",
            "0e1a51f68420481eb62128ab23857f4c"
          ]
        },
        "outputId": "55eca479-cf2b-402e-8fa4-2f95be9001b6"
      },
      "execution_count": null,
      "outputs": [
        {
          "output_type": "stream",
          "name": "stderr",
          "text": [
            "<ipython-input-7-fe0880f41bec>:6: NeptuneWarning: The following monitoring options are disabled by default in interactive sessions: 'capture_stdout', 'capture_stderr', 'capture_traceback', and 'capture_hardware_metrics'. To enable them, set each parameter to 'True' when initializing the run. The monitoring will continue until you call run.stop() or the kernel stops. Also note: Your source files can only be tracked if you pass the path(s) to the 'source_code' argument. For help, see the Neptune docs: https://docs.neptune.ai/logging/source_code/\n",
            "  run = neptune.init_run(project=project_name, api_token=api_token, tags=tag)\n"
          ]
        },
        {
          "output_type": "stream",
          "name": "stdout",
          "text": [
            "https://app.neptune.ai/tds-ws23/oilpalm-detection/e/OIL-41\n"
          ]
        },
        {
          "output_type": "stream",
          "name": "stderr",
          "text": [
            "/usr/local/lib/python3.10/dist-packages/huggingface_hub/utils/_token.py:88: UserWarning: \n",
            "The secret `HF_TOKEN` does not exist in your Colab secrets.\n",
            "To authenticate with the Hugging Face Hub, create a token in your settings tab (https://huggingface.co/settings/tokens), set it as secret in your Google Colab and restart your session.\n",
            "You will be able to reuse this secret in all of your notebooks.\n",
            "Please note that authentication is recommended but still optional to access public models or datasets.\n",
            "  warnings.warn(\n"
          ]
        },
        {
          "output_type": "display_data",
          "data": {
            "text/plain": [
              "model.safetensors:   0%|          | 0.00/102M [00:00<?, ?B/s]"
            ],
            "application/vnd.jupyter.widget-view+json": {
              "version_major": 2,
              "version_minor": 0,
              "model_id": "b842e9229eb542df9ffdfab8f1ac339e"
            }
          },
          "metadata": {}
        },
        {
          "output_type": "stream",
          "name": "stderr",
          "text": [
            "/usr/local/lib/python3.10/dist-packages/neptune_fastai/impl/__init__.py:247: UserWarning: NeptuneCallback: SaveModelCallback is necessary for uploading model checkpoints.\n",
            "  warnings.warn(\"NeptuneCallback: SaveModelCallback is necessary for uploading model checkpoints.\")\n"
          ]
        },
        {
          "output_type": "display_data",
          "data": {
            "text/plain": [
              "<IPython.core.display.HTML object>"
            ],
            "text/html": [
              "\n",
              "<style>\n",
              "    /* Turns off some styling */\n",
              "    progress {\n",
              "        /* gets rid of default border in Firefox and Opera. */\n",
              "        border: none;\n",
              "        /* Needs to be in here for Safari polyfill so background images work as expected. */\n",
              "        background-size: auto;\n",
              "    }\n",
              "    progress:not([value]), progress:not([value])::-webkit-progress-bar {\n",
              "        background: repeating-linear-gradient(45deg, #7e7e7e, #7e7e7e 10px, #5c5c5c 10px, #5c5c5c 20px);\n",
              "    }\n",
              "    .progress-bar-interrupted, .progress-bar-interrupted::-webkit-progress-bar {\n",
              "        background: #F44336;\n",
              "    }\n",
              "</style>\n"
            ]
          },
          "metadata": {}
        },
        {
          "output_type": "display_data",
          "data": {
            "text/plain": [
              "<IPython.core.display.HTML object>"
            ],
            "text/html": [
              "<table border=\"1\" class=\"dataframe\">\n",
              "  <thead>\n",
              "    <tr style=\"text-align: left;\">\n",
              "      <th>epoch</th>\n",
              "      <th>train_loss</th>\n",
              "      <th>valid_loss</th>\n",
              "      <th>accuracy</th>\n",
              "      <th>time</th>\n",
              "    </tr>\n",
              "  </thead>\n",
              "  <tbody>\n",
              "    <tr>\n",
              "      <td>0</td>\n",
              "      <td>0.628126</td>\n",
              "      <td>0.312072</td>\n",
              "      <td>0.894387</td>\n",
              "      <td>02:04</td>\n",
              "    </tr>\n",
              "    <tr>\n",
              "      <td>1</td>\n",
              "      <td>0.289648</td>\n",
              "      <td>0.222957</td>\n",
              "      <td>0.930588</td>\n",
              "      <td>02:03</td>\n",
              "    </tr>\n",
              "    <tr>\n",
              "      <td>2</td>\n",
              "      <td>0.258947</td>\n",
              "      <td>0.219030</td>\n",
              "      <td>0.931916</td>\n",
              "      <td>02:04</td>\n",
              "    </tr>\n",
              "  </tbody>\n",
              "</table>"
            ]
          },
          "metadata": {}
        },
        {
          "output_type": "stream",
          "name": "stdout",
          "text": [
            "Shutting down background jobs, please wait a moment...\n",
            "Done!\n",
            "Waiting for the remaining 33 operations to synchronize with Neptune. Do not kill this process.\n",
            "All 33 operations synced, thanks for waiting!\n",
            "Explore the metadata in the Neptune app:\n",
            "https://app.neptune.ai/tds-ws23/oilpalm-detection/e/OIL-41/metadata\n"
          ]
        }
      ]
    }
  ]
}