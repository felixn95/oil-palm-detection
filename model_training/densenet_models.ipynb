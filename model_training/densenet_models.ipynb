{
  "nbformat": 4,
  "nbformat_minor": 0,
  "metadata": {
    "colab": {
      "provenance": [],
      "gpuType": "T4",
      "authorship_tag": "ABX9TyOiauXZAT6en0VFAxvXboij",
      "include_colab_link": true
    },
    "kernelspec": {
      "name": "python3",
      "display_name": "Python 3"
    },
    "language_info": {
      "name": "python"
    },
    "accelerator": "GPU",
    "widgets": {
      "application/vnd.jupyter.widget-state+json": {
        "3f5c88f6bdb9449badebb5657b15cefc": {
          "model_module": "@jupyter-widgets/controls",
          "model_name": "HBoxModel",
          "model_module_version": "1.5.0",
          "state": {
            "_dom_classes": [],
            "_model_module": "@jupyter-widgets/controls",
            "_model_module_version": "1.5.0",
            "_model_name": "HBoxModel",
            "_view_count": null,
            "_view_module": "@jupyter-widgets/controls",
            "_view_module_version": "1.5.0",
            "_view_name": "HBoxView",
            "box_style": "",
            "children": [
              "IPY_MODEL_fa4596911efe4463a65a78ad1f382000",
              "IPY_MODEL_ad162f42e0fb45e7a149d94e067b687b",
              "IPY_MODEL_85d10271f2d5461f947cb1980e5d209d"
            ],
            "layout": "IPY_MODEL_c022afa93f4949fa8b827c9f4f7df3c5"
          }
        },
        "fa4596911efe4463a65a78ad1f382000": {
          "model_module": "@jupyter-widgets/controls",
          "model_name": "HTMLModel",
          "model_module_version": "1.5.0",
          "state": {
            "_dom_classes": [],
            "_model_module": "@jupyter-widgets/controls",
            "_model_module_version": "1.5.0",
            "_model_name": "HTMLModel",
            "_view_count": null,
            "_view_module": "@jupyter-widgets/controls",
            "_view_module_version": "1.5.0",
            "_view_name": "HTMLView",
            "description": "",
            "description_tooltip": null,
            "layout": "IPY_MODEL_ed7a8c94eacb4175ac963c236514efd7",
            "placeholder": "​",
            "style": "IPY_MODEL_b6a8f0cd79a743df9d909013db4fef64",
            "value": "model.safetensors: 100%"
          }
        },
        "ad162f42e0fb45e7a149d94e067b687b": {
          "model_module": "@jupyter-widgets/controls",
          "model_name": "FloatProgressModel",
          "model_module_version": "1.5.0",
          "state": {
            "_dom_classes": [],
            "_model_module": "@jupyter-widgets/controls",
            "_model_module_version": "1.5.0",
            "_model_name": "FloatProgressModel",
            "_view_count": null,
            "_view_module": "@jupyter-widgets/controls",
            "_view_module_version": "1.5.0",
            "_view_name": "ProgressView",
            "bar_style": "success",
            "description": "",
            "description_tooltip": null,
            "layout": "IPY_MODEL_4f62fd5e50ea4e9a8e057a94039a4498",
            "max": 57350342,
            "min": 0,
            "orientation": "horizontal",
            "style": "IPY_MODEL_ffd861fbe467418982631042ff744b4f",
            "value": 57350342
          }
        },
        "85d10271f2d5461f947cb1980e5d209d": {
          "model_module": "@jupyter-widgets/controls",
          "model_name": "HTMLModel",
          "model_module_version": "1.5.0",
          "state": {
            "_dom_classes": [],
            "_model_module": "@jupyter-widgets/controls",
            "_model_module_version": "1.5.0",
            "_model_name": "HTMLModel",
            "_view_count": null,
            "_view_module": "@jupyter-widgets/controls",
            "_view_module_version": "1.5.0",
            "_view_name": "HTMLView",
            "description": "",
            "description_tooltip": null,
            "layout": "IPY_MODEL_059ee462194647648e3eaf8097441efb",
            "placeholder": "​",
            "style": "IPY_MODEL_b814f6c5127f4b72bc4b6bff3282b51c",
            "value": " 57.4M/57.4M [00:01&lt;00:00, 48.5MB/s]"
          }
        },
        "c022afa93f4949fa8b827c9f4f7df3c5": {
          "model_module": "@jupyter-widgets/base",
          "model_name": "LayoutModel",
          "model_module_version": "1.2.0",
          "state": {
            "_model_module": "@jupyter-widgets/base",
            "_model_module_version": "1.2.0",
            "_model_name": "LayoutModel",
            "_view_count": null,
            "_view_module": "@jupyter-widgets/base",
            "_view_module_version": "1.2.0",
            "_view_name": "LayoutView",
            "align_content": null,
            "align_items": null,
            "align_self": null,
            "border": null,
            "bottom": null,
            "display": null,
            "flex": null,
            "flex_flow": null,
            "grid_area": null,
            "grid_auto_columns": null,
            "grid_auto_flow": null,
            "grid_auto_rows": null,
            "grid_column": null,
            "grid_gap": null,
            "grid_row": null,
            "grid_template_areas": null,
            "grid_template_columns": null,
            "grid_template_rows": null,
            "height": null,
            "justify_content": null,
            "justify_items": null,
            "left": null,
            "margin": null,
            "max_height": null,
            "max_width": null,
            "min_height": null,
            "min_width": null,
            "object_fit": null,
            "object_position": null,
            "order": null,
            "overflow": null,
            "overflow_x": null,
            "overflow_y": null,
            "padding": null,
            "right": null,
            "top": null,
            "visibility": null,
            "width": null
          }
        },
        "ed7a8c94eacb4175ac963c236514efd7": {
          "model_module": "@jupyter-widgets/base",
          "model_name": "LayoutModel",
          "model_module_version": "1.2.0",
          "state": {
            "_model_module": "@jupyter-widgets/base",
            "_model_module_version": "1.2.0",
            "_model_name": "LayoutModel",
            "_view_count": null,
            "_view_module": "@jupyter-widgets/base",
            "_view_module_version": "1.2.0",
            "_view_name": "LayoutView",
            "align_content": null,
            "align_items": null,
            "align_self": null,
            "border": null,
            "bottom": null,
            "display": null,
            "flex": null,
            "flex_flow": null,
            "grid_area": null,
            "grid_auto_columns": null,
            "grid_auto_flow": null,
            "grid_auto_rows": null,
            "grid_column": null,
            "grid_gap": null,
            "grid_row": null,
            "grid_template_areas": null,
            "grid_template_columns": null,
            "grid_template_rows": null,
            "height": null,
            "justify_content": null,
            "justify_items": null,
            "left": null,
            "margin": null,
            "max_height": null,
            "max_width": null,
            "min_height": null,
            "min_width": null,
            "object_fit": null,
            "object_position": null,
            "order": null,
            "overflow": null,
            "overflow_x": null,
            "overflow_y": null,
            "padding": null,
            "right": null,
            "top": null,
            "visibility": null,
            "width": null
          }
        },
        "b6a8f0cd79a743df9d909013db4fef64": {
          "model_module": "@jupyter-widgets/controls",
          "model_name": "DescriptionStyleModel",
          "model_module_version": "1.5.0",
          "state": {
            "_model_module": "@jupyter-widgets/controls",
            "_model_module_version": "1.5.0",
            "_model_name": "DescriptionStyleModel",
            "_view_count": null,
            "_view_module": "@jupyter-widgets/base",
            "_view_module_version": "1.2.0",
            "_view_name": "StyleView",
            "description_width": ""
          }
        },
        "4f62fd5e50ea4e9a8e057a94039a4498": {
          "model_module": "@jupyter-widgets/base",
          "model_name": "LayoutModel",
          "model_module_version": "1.2.0",
          "state": {
            "_model_module": "@jupyter-widgets/base",
            "_model_module_version": "1.2.0",
            "_model_name": "LayoutModel",
            "_view_count": null,
            "_view_module": "@jupyter-widgets/base",
            "_view_module_version": "1.2.0",
            "_view_name": "LayoutView",
            "align_content": null,
            "align_items": null,
            "align_self": null,
            "border": null,
            "bottom": null,
            "display": null,
            "flex": null,
            "flex_flow": null,
            "grid_area": null,
            "grid_auto_columns": null,
            "grid_auto_flow": null,
            "grid_auto_rows": null,
            "grid_column": null,
            "grid_gap": null,
            "grid_row": null,
            "grid_template_areas": null,
            "grid_template_columns": null,
            "grid_template_rows": null,
            "height": null,
            "justify_content": null,
            "justify_items": null,
            "left": null,
            "margin": null,
            "max_height": null,
            "max_width": null,
            "min_height": null,
            "min_width": null,
            "object_fit": null,
            "object_position": null,
            "order": null,
            "overflow": null,
            "overflow_x": null,
            "overflow_y": null,
            "padding": null,
            "right": null,
            "top": null,
            "visibility": null,
            "width": null
          }
        },
        "ffd861fbe467418982631042ff744b4f": {
          "model_module": "@jupyter-widgets/controls",
          "model_name": "ProgressStyleModel",
          "model_module_version": "1.5.0",
          "state": {
            "_model_module": "@jupyter-widgets/controls",
            "_model_module_version": "1.5.0",
            "_model_name": "ProgressStyleModel",
            "_view_count": null,
            "_view_module": "@jupyter-widgets/base",
            "_view_module_version": "1.2.0",
            "_view_name": "StyleView",
            "bar_color": null,
            "description_width": ""
          }
        },
        "059ee462194647648e3eaf8097441efb": {
          "model_module": "@jupyter-widgets/base",
          "model_name": "LayoutModel",
          "model_module_version": "1.2.0",
          "state": {
            "_model_module": "@jupyter-widgets/base",
            "_model_module_version": "1.2.0",
            "_model_name": "LayoutModel",
            "_view_count": null,
            "_view_module": "@jupyter-widgets/base",
            "_view_module_version": "1.2.0",
            "_view_name": "LayoutView",
            "align_content": null,
            "align_items": null,
            "align_self": null,
            "border": null,
            "bottom": null,
            "display": null,
            "flex": null,
            "flex_flow": null,
            "grid_area": null,
            "grid_auto_columns": null,
            "grid_auto_flow": null,
            "grid_auto_rows": null,
            "grid_column": null,
            "grid_gap": null,
            "grid_row": null,
            "grid_template_areas": null,
            "grid_template_columns": null,
            "grid_template_rows": null,
            "height": null,
            "justify_content": null,
            "justify_items": null,
            "left": null,
            "margin": null,
            "max_height": null,
            "max_width": null,
            "min_height": null,
            "min_width": null,
            "object_fit": null,
            "object_position": null,
            "order": null,
            "overflow": null,
            "overflow_x": null,
            "overflow_y": null,
            "padding": null,
            "right": null,
            "top": null,
            "visibility": null,
            "width": null
          }
        },
        "b814f6c5127f4b72bc4b6bff3282b51c": {
          "model_module": "@jupyter-widgets/controls",
          "model_name": "DescriptionStyleModel",
          "model_module_version": "1.5.0",
          "state": {
            "_model_module": "@jupyter-widgets/controls",
            "_model_module_version": "1.5.0",
            "_model_name": "DescriptionStyleModel",
            "_view_count": null,
            "_view_module": "@jupyter-widgets/base",
            "_view_module_version": "1.2.0",
            "_view_name": "StyleView",
            "description_width": ""
          }
        },
        "b75bcedf956447e7a36182c1018b7eb6": {
          "model_module": "@jupyter-widgets/controls",
          "model_name": "HBoxModel",
          "model_module_version": "1.5.0",
          "state": {
            "_dom_classes": [],
            "_model_module": "@jupyter-widgets/controls",
            "_model_module_version": "1.5.0",
            "_model_name": "HBoxModel",
            "_view_count": null,
            "_view_module": "@jupyter-widgets/controls",
            "_view_module_version": "1.5.0",
            "_view_name": "HBoxView",
            "box_style": "",
            "children": [
              "IPY_MODEL_9465a3bae53e4f8caaaad71ff051c94a",
              "IPY_MODEL_0d45912162c34708a60b36444fbaff15",
              "IPY_MODEL_2990f1c8e3f94767a2cfc0c2143e6487"
            ],
            "layout": "IPY_MODEL_377be73b50c141f6bdd6864c13cabefd"
          }
        },
        "9465a3bae53e4f8caaaad71ff051c94a": {
          "model_module": "@jupyter-widgets/controls",
          "model_name": "HTMLModel",
          "model_module_version": "1.5.0",
          "state": {
            "_dom_classes": [],
            "_model_module": "@jupyter-widgets/controls",
            "_model_module_version": "1.5.0",
            "_model_name": "HTMLModel",
            "_view_count": null,
            "_view_module": "@jupyter-widgets/controls",
            "_view_module_version": "1.5.0",
            "_view_name": "HTMLView",
            "description": "",
            "description_tooltip": null,
            "layout": "IPY_MODEL_55f77da03ba64b49ab1f1c55a1e95c03",
            "placeholder": "​",
            "style": "IPY_MODEL_403c8f5167d34eb3b5fddc962b056096",
            "value": "model.safetensors: 100%"
          }
        },
        "0d45912162c34708a60b36444fbaff15": {
          "model_module": "@jupyter-widgets/controls",
          "model_name": "FloatProgressModel",
          "model_module_version": "1.5.0",
          "state": {
            "_dom_classes": [],
            "_model_module": "@jupyter-widgets/controls",
            "_model_module_version": "1.5.0",
            "_model_name": "FloatProgressModel",
            "_view_count": null,
            "_view_module": "@jupyter-widgets/controls",
            "_view_module_version": "1.5.0",
            "_view_name": "ProgressView",
            "bar_style": "success",
            "description": "",
            "description_tooltip": null,
            "layout": "IPY_MODEL_d17972af2ae940baa641add9f3a9832b",
            "max": 32334434,
            "min": 0,
            "orientation": "horizontal",
            "style": "IPY_MODEL_9021837ea58b42a8b4e758f4d6872cc3",
            "value": 32334434
          }
        },
        "2990f1c8e3f94767a2cfc0c2143e6487": {
          "model_module": "@jupyter-widgets/controls",
          "model_name": "HTMLModel",
          "model_module_version": "1.5.0",
          "state": {
            "_dom_classes": [],
            "_model_module": "@jupyter-widgets/controls",
            "_model_module_version": "1.5.0",
            "_model_name": "HTMLModel",
            "_view_count": null,
            "_view_module": "@jupyter-widgets/controls",
            "_view_module_version": "1.5.0",
            "_view_name": "HTMLView",
            "description": "",
            "description_tooltip": null,
            "layout": "IPY_MODEL_18064bde00c44e3daa00c1c52b75c491",
            "placeholder": "​",
            "style": "IPY_MODEL_6d2421caa72c48d89289b6baadc2ca44",
            "value": " 32.3M/32.3M [00:00&lt;00:00, 155MB/s]"
          }
        },
        "377be73b50c141f6bdd6864c13cabefd": {
          "model_module": "@jupyter-widgets/base",
          "model_name": "LayoutModel",
          "model_module_version": "1.2.0",
          "state": {
            "_model_module": "@jupyter-widgets/base",
            "_model_module_version": "1.2.0",
            "_model_name": "LayoutModel",
            "_view_count": null,
            "_view_module": "@jupyter-widgets/base",
            "_view_module_version": "1.2.0",
            "_view_name": "LayoutView",
            "align_content": null,
            "align_items": null,
            "align_self": null,
            "border": null,
            "bottom": null,
            "display": null,
            "flex": null,
            "flex_flow": null,
            "grid_area": null,
            "grid_auto_columns": null,
            "grid_auto_flow": null,
            "grid_auto_rows": null,
            "grid_column": null,
            "grid_gap": null,
            "grid_row": null,
            "grid_template_areas": null,
            "grid_template_columns": null,
            "grid_template_rows": null,
            "height": null,
            "justify_content": null,
            "justify_items": null,
            "left": null,
            "margin": null,
            "max_height": null,
            "max_width": null,
            "min_height": null,
            "min_width": null,
            "object_fit": null,
            "object_position": null,
            "order": null,
            "overflow": null,
            "overflow_x": null,
            "overflow_y": null,
            "padding": null,
            "right": null,
            "top": null,
            "visibility": null,
            "width": null
          }
        },
        "55f77da03ba64b49ab1f1c55a1e95c03": {
          "model_module": "@jupyter-widgets/base",
          "model_name": "LayoutModel",
          "model_module_version": "1.2.0",
          "state": {
            "_model_module": "@jupyter-widgets/base",
            "_model_module_version": "1.2.0",
            "_model_name": "LayoutModel",
            "_view_count": null,
            "_view_module": "@jupyter-widgets/base",
            "_view_module_version": "1.2.0",
            "_view_name": "LayoutView",
            "align_content": null,
            "align_items": null,
            "align_self": null,
            "border": null,
            "bottom": null,
            "display": null,
            "flex": null,
            "flex_flow": null,
            "grid_area": null,
            "grid_auto_columns": null,
            "grid_auto_flow": null,
            "grid_auto_rows": null,
            "grid_column": null,
            "grid_gap": null,
            "grid_row": null,
            "grid_template_areas": null,
            "grid_template_columns": null,
            "grid_template_rows": null,
            "height": null,
            "justify_content": null,
            "justify_items": null,
            "left": null,
            "margin": null,
            "max_height": null,
            "max_width": null,
            "min_height": null,
            "min_width": null,
            "object_fit": null,
            "object_position": null,
            "order": null,
            "overflow": null,
            "overflow_x": null,
            "overflow_y": null,
            "padding": null,
            "right": null,
            "top": null,
            "visibility": null,
            "width": null
          }
        },
        "403c8f5167d34eb3b5fddc962b056096": {
          "model_module": "@jupyter-widgets/controls",
          "model_name": "DescriptionStyleModel",
          "model_module_version": "1.5.0",
          "state": {
            "_model_module": "@jupyter-widgets/controls",
            "_model_module_version": "1.5.0",
            "_model_name": "DescriptionStyleModel",
            "_view_count": null,
            "_view_module": "@jupyter-widgets/base",
            "_view_module_version": "1.2.0",
            "_view_name": "StyleView",
            "description_width": ""
          }
        },
        "d17972af2ae940baa641add9f3a9832b": {
          "model_module": "@jupyter-widgets/base",
          "model_name": "LayoutModel",
          "model_module_version": "1.2.0",
          "state": {
            "_model_module": "@jupyter-widgets/base",
            "_model_module_version": "1.2.0",
            "_model_name": "LayoutModel",
            "_view_count": null,
            "_view_module": "@jupyter-widgets/base",
            "_view_module_version": "1.2.0",
            "_view_name": "LayoutView",
            "align_content": null,
            "align_items": null,
            "align_self": null,
            "border": null,
            "bottom": null,
            "display": null,
            "flex": null,
            "flex_flow": null,
            "grid_area": null,
            "grid_auto_columns": null,
            "grid_auto_flow": null,
            "grid_auto_rows": null,
            "grid_column": null,
            "grid_gap": null,
            "grid_row": null,
            "grid_template_areas": null,
            "grid_template_columns": null,
            "grid_template_rows": null,
            "height": null,
            "justify_content": null,
            "justify_items": null,
            "left": null,
            "margin": null,
            "max_height": null,
            "max_width": null,
            "min_height": null,
            "min_width": null,
            "object_fit": null,
            "object_position": null,
            "order": null,
            "overflow": null,
            "overflow_x": null,
            "overflow_y": null,
            "padding": null,
            "right": null,
            "top": null,
            "visibility": null,
            "width": null
          }
        },
        "9021837ea58b42a8b4e758f4d6872cc3": {
          "model_module": "@jupyter-widgets/controls",
          "model_name": "ProgressStyleModel",
          "model_module_version": "1.5.0",
          "state": {
            "_model_module": "@jupyter-widgets/controls",
            "_model_module_version": "1.5.0",
            "_model_name": "ProgressStyleModel",
            "_view_count": null,
            "_view_module": "@jupyter-widgets/base",
            "_view_module_version": "1.2.0",
            "_view_name": "StyleView",
            "bar_color": null,
            "description_width": ""
          }
        },
        "18064bde00c44e3daa00c1c52b75c491": {
          "model_module": "@jupyter-widgets/base",
          "model_name": "LayoutModel",
          "model_module_version": "1.2.0",
          "state": {
            "_model_module": "@jupyter-widgets/base",
            "_model_module_version": "1.2.0",
            "_model_name": "LayoutModel",
            "_view_count": null,
            "_view_module": "@jupyter-widgets/base",
            "_view_module_version": "1.2.0",
            "_view_name": "LayoutView",
            "align_content": null,
            "align_items": null,
            "align_self": null,
            "border": null,
            "bottom": null,
            "display": null,
            "flex": null,
            "flex_flow": null,
            "grid_area": null,
            "grid_auto_columns": null,
            "grid_auto_flow": null,
            "grid_auto_rows": null,
            "grid_column": null,
            "grid_gap": null,
            "grid_row": null,
            "grid_template_areas": null,
            "grid_template_columns": null,
            "grid_template_rows": null,
            "height": null,
            "justify_content": null,
            "justify_items": null,
            "left": null,
            "margin": null,
            "max_height": null,
            "max_width": null,
            "min_height": null,
            "min_width": null,
            "object_fit": null,
            "object_position": null,
            "order": null,
            "overflow": null,
            "overflow_x": null,
            "overflow_y": null,
            "padding": null,
            "right": null,
            "top": null,
            "visibility": null,
            "width": null
          }
        },
        "6d2421caa72c48d89289b6baadc2ca44": {
          "model_module": "@jupyter-widgets/controls",
          "model_name": "DescriptionStyleModel",
          "model_module_version": "1.5.0",
          "state": {
            "_model_module": "@jupyter-widgets/controls",
            "_model_module_version": "1.5.0",
            "_model_name": "DescriptionStyleModel",
            "_view_count": null,
            "_view_module": "@jupyter-widgets/base",
            "_view_module_version": "1.2.0",
            "_view_name": "StyleView",
            "description_width": ""
          }
        },
        "5b1ee4bad5a84c8889c4f1b76325e4cd": {
          "model_module": "@jupyter-widgets/controls",
          "model_name": "HBoxModel",
          "model_module_version": "1.5.0",
          "state": {
            "_dom_classes": [],
            "_model_module": "@jupyter-widgets/controls",
            "_model_module_version": "1.5.0",
            "_model_name": "HBoxModel",
            "_view_count": null,
            "_view_module": "@jupyter-widgets/controls",
            "_view_module_version": "1.5.0",
            "_view_name": "HBoxView",
            "box_style": "",
            "children": [
              "IPY_MODEL_a55475d39422467399eda89a79d84ddb",
              "IPY_MODEL_4e751b81d5f444cdbbe82f8b794c3505",
              "IPY_MODEL_e4d95667df9b499996b9426119aa8dba"
            ],
            "layout": "IPY_MODEL_2b6993e962bf4209b25187946ee55e20"
          }
        },
        "a55475d39422467399eda89a79d84ddb": {
          "model_module": "@jupyter-widgets/controls",
          "model_name": "HTMLModel",
          "model_module_version": "1.5.0",
          "state": {
            "_dom_classes": [],
            "_model_module": "@jupyter-widgets/controls",
            "_model_module_version": "1.5.0",
            "_model_name": "HTMLModel",
            "_view_count": null,
            "_view_module": "@jupyter-widgets/controls",
            "_view_module_version": "1.5.0",
            "_view_name": "HTMLView",
            "description": "",
            "description_tooltip": null,
            "layout": "IPY_MODEL_3692ddc1db1841c6847ce939902b6ba3",
            "placeholder": "​",
            "style": "IPY_MODEL_e89e628d112840fbb4025db211a4de1e",
            "value": "model.safetensors: 100%"
          }
        },
        "4e751b81d5f444cdbbe82f8b794c3505": {
          "model_module": "@jupyter-widgets/controls",
          "model_name": "FloatProgressModel",
          "model_module_version": "1.5.0",
          "state": {
            "_dom_classes": [],
            "_model_module": "@jupyter-widgets/controls",
            "_model_module_version": "1.5.0",
            "_model_name": "FloatProgressModel",
            "_view_count": null,
            "_view_module": "@jupyter-widgets/controls",
            "_view_module_version": "1.5.0",
            "_view_name": "ProgressView",
            "bar_style": "success",
            "description": "",
            "description_tooltip": null,
            "layout": "IPY_MODEL_695aac67248744328d83de85d5cdadaf",
            "max": 81113690,
            "min": 0,
            "orientation": "horizontal",
            "style": "IPY_MODEL_bf62dd87e7b14a3faf3d5a9d76e6ba11",
            "value": 81113690
          }
        },
        "e4d95667df9b499996b9426119aa8dba": {
          "model_module": "@jupyter-widgets/controls",
          "model_name": "HTMLModel",
          "model_module_version": "1.5.0",
          "state": {
            "_dom_classes": [],
            "_model_module": "@jupyter-widgets/controls",
            "_model_module_version": "1.5.0",
            "_model_name": "HTMLModel",
            "_view_count": null,
            "_view_module": "@jupyter-widgets/controls",
            "_view_module_version": "1.5.0",
            "_view_name": "HTMLView",
            "description": "",
            "description_tooltip": null,
            "layout": "IPY_MODEL_d6e831c3fa6e46b09a705c4e6592c8b0",
            "placeholder": "​",
            "style": "IPY_MODEL_61672e000866449282a3fc00f2af3264",
            "value": " 81.1M/81.1M [00:00&lt;00:00, 131MB/s]"
          }
        },
        "2b6993e962bf4209b25187946ee55e20": {
          "model_module": "@jupyter-widgets/base",
          "model_name": "LayoutModel",
          "model_module_version": "1.2.0",
          "state": {
            "_model_module": "@jupyter-widgets/base",
            "_model_module_version": "1.2.0",
            "_model_name": "LayoutModel",
            "_view_count": null,
            "_view_module": "@jupyter-widgets/base",
            "_view_module_version": "1.2.0",
            "_view_name": "LayoutView",
            "align_content": null,
            "align_items": null,
            "align_self": null,
            "border": null,
            "bottom": null,
            "display": null,
            "flex": null,
            "flex_flow": null,
            "grid_area": null,
            "grid_auto_columns": null,
            "grid_auto_flow": null,
            "grid_auto_rows": null,
            "grid_column": null,
            "grid_gap": null,
            "grid_row": null,
            "grid_template_areas": null,
            "grid_template_columns": null,
            "grid_template_rows": null,
            "height": null,
            "justify_content": null,
            "justify_items": null,
            "left": null,
            "margin": null,
            "max_height": null,
            "max_width": null,
            "min_height": null,
            "min_width": null,
            "object_fit": null,
            "object_position": null,
            "order": null,
            "overflow": null,
            "overflow_x": null,
            "overflow_y": null,
            "padding": null,
            "right": null,
            "top": null,
            "visibility": null,
            "width": null
          }
        },
        "3692ddc1db1841c6847ce939902b6ba3": {
          "model_module": "@jupyter-widgets/base",
          "model_name": "LayoutModel",
          "model_module_version": "1.2.0",
          "state": {
            "_model_module": "@jupyter-widgets/base",
            "_model_module_version": "1.2.0",
            "_model_name": "LayoutModel",
            "_view_count": null,
            "_view_module": "@jupyter-widgets/base",
            "_view_module_version": "1.2.0",
            "_view_name": "LayoutView",
            "align_content": null,
            "align_items": null,
            "align_self": null,
            "border": null,
            "bottom": null,
            "display": null,
            "flex": null,
            "flex_flow": null,
            "grid_area": null,
            "grid_auto_columns": null,
            "grid_auto_flow": null,
            "grid_auto_rows": null,
            "grid_column": null,
            "grid_gap": null,
            "grid_row": null,
            "grid_template_areas": null,
            "grid_template_columns": null,
            "grid_template_rows": null,
            "height": null,
            "justify_content": null,
            "justify_items": null,
            "left": null,
            "margin": null,
            "max_height": null,
            "max_width": null,
            "min_height": null,
            "min_width": null,
            "object_fit": null,
            "object_position": null,
            "order": null,
            "overflow": null,
            "overflow_x": null,
            "overflow_y": null,
            "padding": null,
            "right": null,
            "top": null,
            "visibility": null,
            "width": null
          }
        },
        "e89e628d112840fbb4025db211a4de1e": {
          "model_module": "@jupyter-widgets/controls",
          "model_name": "DescriptionStyleModel",
          "model_module_version": "1.5.0",
          "state": {
            "_model_module": "@jupyter-widgets/controls",
            "_model_module_version": "1.5.0",
            "_model_name": "DescriptionStyleModel",
            "_view_count": null,
            "_view_module": "@jupyter-widgets/base",
            "_view_module_version": "1.2.0",
            "_view_name": "StyleView",
            "description_width": ""
          }
        },
        "695aac67248744328d83de85d5cdadaf": {
          "model_module": "@jupyter-widgets/base",
          "model_name": "LayoutModel",
          "model_module_version": "1.2.0",
          "state": {
            "_model_module": "@jupyter-widgets/base",
            "_model_module_version": "1.2.0",
            "_model_name": "LayoutModel",
            "_view_count": null,
            "_view_module": "@jupyter-widgets/base",
            "_view_module_version": "1.2.0",
            "_view_name": "LayoutView",
            "align_content": null,
            "align_items": null,
            "align_self": null,
            "border": null,
            "bottom": null,
            "display": null,
            "flex": null,
            "flex_flow": null,
            "grid_area": null,
            "grid_auto_columns": null,
            "grid_auto_flow": null,
            "grid_auto_rows": null,
            "grid_column": null,
            "grid_gap": null,
            "grid_row": null,
            "grid_template_areas": null,
            "grid_template_columns": null,
            "grid_template_rows": null,
            "height": null,
            "justify_content": null,
            "justify_items": null,
            "left": null,
            "margin": null,
            "max_height": null,
            "max_width": null,
            "min_height": null,
            "min_width": null,
            "object_fit": null,
            "object_position": null,
            "order": null,
            "overflow": null,
            "overflow_x": null,
            "overflow_y": null,
            "padding": null,
            "right": null,
            "top": null,
            "visibility": null,
            "width": null
          }
        },
        "bf62dd87e7b14a3faf3d5a9d76e6ba11": {
          "model_module": "@jupyter-widgets/controls",
          "model_name": "ProgressStyleModel",
          "model_module_version": "1.5.0",
          "state": {
            "_model_module": "@jupyter-widgets/controls",
            "_model_module_version": "1.5.0",
            "_model_name": "ProgressStyleModel",
            "_view_count": null,
            "_view_module": "@jupyter-widgets/base",
            "_view_module_version": "1.2.0",
            "_view_name": "StyleView",
            "bar_color": null,
            "description_width": ""
          }
        },
        "d6e831c3fa6e46b09a705c4e6592c8b0": {
          "model_module": "@jupyter-widgets/base",
          "model_name": "LayoutModel",
          "model_module_version": "1.2.0",
          "state": {
            "_model_module": "@jupyter-widgets/base",
            "_model_module_version": "1.2.0",
            "_model_name": "LayoutModel",
            "_view_count": null,
            "_view_module": "@jupyter-widgets/base",
            "_view_module_version": "1.2.0",
            "_view_name": "LayoutView",
            "align_content": null,
            "align_items": null,
            "align_self": null,
            "border": null,
            "bottom": null,
            "display": null,
            "flex": null,
            "flex_flow": null,
            "grid_area": null,
            "grid_auto_columns": null,
            "grid_auto_flow": null,
            "grid_auto_rows": null,
            "grid_column": null,
            "grid_gap": null,
            "grid_row": null,
            "grid_template_areas": null,
            "grid_template_columns": null,
            "grid_template_rows": null,
            "height": null,
            "justify_content": null,
            "justify_items": null,
            "left": null,
            "margin": null,
            "max_height": null,
            "max_width": null,
            "min_height": null,
            "min_width": null,
            "object_fit": null,
            "object_position": null,
            "order": null,
            "overflow": null,
            "overflow_x": null,
            "overflow_y": null,
            "padding": null,
            "right": null,
            "top": null,
            "visibility": null,
            "width": null
          }
        },
        "61672e000866449282a3fc00f2af3264": {
          "model_module": "@jupyter-widgets/controls",
          "model_name": "DescriptionStyleModel",
          "model_module_version": "1.5.0",
          "state": {
            "_model_module": "@jupyter-widgets/controls",
            "_model_module_version": "1.5.0",
            "_model_name": "DescriptionStyleModel",
            "_view_count": null,
            "_view_module": "@jupyter-widgets/base",
            "_view_module_version": "1.2.0",
            "_view_name": "StyleView",
            "description_width": ""
          }
        }
      }
    }
  },
  "cells": [
    {
      "cell_type": "markdown",
      "metadata": {
        "id": "view-in-github",
        "colab_type": "text"
      },
      "source": [
        "<a href=\"https://colab.research.google.com/github/felixn95/oil-palm-detection/blob/main/model_training/densenet_models.ipynb\" target=\"_parent\"><img src=\"https://colab.research.google.com/assets/colab-badge.svg\" alt=\"Open In Colab\"/></a>"
      ]
    },
    {
      "cell_type": "markdown",
      "source": [
        "# **Densenet** - Training & Tracking Models using NeptuneAI\n",
        "\n",
        "#### In this notebook, the training is applied on the pretrained model **densenet** (https://pytorch.org/hub/pytorch_vision_densenet/) using the FastAI learner.\n",
        "\n",
        "During the training, different versions of the model combined with different approachs are applied. For later comparison with different models, all runs are tracked with their metrics in a centralized project in neptuneAI, where all teammembers collaborate togehter."
      ],
      "metadata": {
        "id": "b8UcsyxkSXtR"
      }
    },
    {
      "cell_type": "code",
      "source": [
        "!pip install torch torchvision --q"
      ],
      "metadata": {
        "id": "yUA8fws0ZMvf"
      },
      "execution_count": 1,
      "outputs": []
    },
    {
      "cell_type": "code",
      "source": [
        "!pip install timm wwf fastai neptune neptune-fastai --q"
      ],
      "metadata": {
        "colab": {
          "base_uri": "https://localhost:8080/"
        },
        "id": "yP0tMgg9M0Qz",
        "outputId": "93b8f3b1-3033-4623-8797-43f5bb8f9412"
      },
      "execution_count": 2,
      "outputs": [
        {
          "output_type": "stream",
          "name": "stdout",
          "text": [
            "\u001b[2K     \u001b[90m━━━━━━━━━━━━━━━━━━━━━━━━━━━━━━━━━━━━━━━━\u001b[0m \u001b[32m2.2/2.2 MB\u001b[0m \u001b[31m11.5 MB/s\u001b[0m eta \u001b[36m0:00:00\u001b[0m\n",
            "\u001b[2K     \u001b[90m━━━━━━━━━━━━━━━━━━━━━━━━━━━━━━━━━━━━━━━━\u001b[0m \u001b[32m481.5/481.5 kB\u001b[0m \u001b[31m16.6 MB/s\u001b[0m eta \u001b[36m0:00:00\u001b[0m\n",
            "\u001b[2K     \u001b[90m━━━━━━━━━━━━━━━━━━━━━━━━━━━━━━━━━━━━━━━━\u001b[0m \u001b[32m196.4/196.4 kB\u001b[0m \u001b[31m17.2 MB/s\u001b[0m eta \u001b[36m0:00:00\u001b[0m\n",
            "\u001b[2K     \u001b[90m━━━━━━━━━━━━━━━━━━━━━━━━━━━━━━━━━━━━━━━━\u001b[0m \u001b[32m139.3/139.3 kB\u001b[0m \u001b[31m7.2 MB/s\u001b[0m eta \u001b[36m0:00:00\u001b[0m\n",
            "\u001b[2K     \u001b[90m━━━━━━━━━━━━━━━━━━━━━━━━━━━━━━━━━━━━━━━━\u001b[0m \u001b[32m11.9/11.9 MB\u001b[0m \u001b[31m23.7 MB/s\u001b[0m eta \u001b[36m0:00:00\u001b[0m\n",
            "\u001b[2K     \u001b[90m━━━━━━━━━━━━━━━━━━━━━━━━━━━━━━━━━━━━━━━━\u001b[0m \u001b[32m82.1/82.1 kB\u001b[0m \u001b[31m8.0 MB/s\u001b[0m eta \u001b[36m0:00:00\u001b[0m\n",
            "\u001b[2K     \u001b[90m━━━━━━━━━━━━━━━━━━━━━━━━━━━━━━━━━━━━━━━━\u001b[0m \u001b[32m63.9/63.9 kB\u001b[0m \u001b[31m3.8 MB/s\u001b[0m eta \u001b[36m0:00:00\u001b[0m\n",
            "\u001b[?25h  Preparing metadata (setup.py) ... \u001b[?25l\u001b[?25hdone\n",
            "\u001b[2K     \u001b[90m━━━━━━━━━━━━━━━━━━━━━━━━━━━━━━━━━━━━━━━━\u001b[0m \u001b[32m137.9/137.9 kB\u001b[0m \u001b[31m11.0 MB/s\u001b[0m eta \u001b[36m0:00:00\u001b[0m\n",
            "\u001b[2K     \u001b[90m━━━━━━━━━━━━━━━━━━━━━━━━━━━━━━━━━━━━━━━━\u001b[0m \u001b[32m62.7/62.7 kB\u001b[0m \u001b[31m8.0 MB/s\u001b[0m eta \u001b[36m0:00:00\u001b[0m\n",
            "\u001b[2K     \u001b[90m━━━━━━━━━━━━━━━━━━━━━━━━━━━━━━━━━━━━━━━━\u001b[0m \u001b[32m66.4/66.4 kB\u001b[0m \u001b[31m8.0 MB/s\u001b[0m eta \u001b[36m0:00:00\u001b[0m\n",
            "\u001b[?25h  Building wheel for bravado-core (setup.py) ... \u001b[?25l\u001b[?25hdone\n"
          ]
        }
      ]
    },
    {
      "cell_type": "markdown",
      "source": [
        "Since we found no convienent way to host the already preprocessed dataset for easy reuse in colab runs, we just repeat the preprocessing steps here in one cell again. Informations therefore can be found in the preprocessing notebook in github."
      ],
      "metadata": {
        "id": "HJ56xJclG1zx"
      }
    },
    {
      "cell_type": "code",
      "execution_count": 3,
      "metadata": {
        "colab": {
          "base_uri": "https://localhost:8080/"
        },
        "id": "Bn02B5auSPLW",
        "outputId": "9edae703-b48a-4bdf-f0e5-c5740dea20f9"
      },
      "outputs": [
        {
          "output_type": "stream",
          "name": "stdout",
          "text": [
            "Downloading widsdatathon2019.zip to /content\n",
            " 96% 443M/460M [00:03<00:00, 148MB/s]\n",
            "100% 460M/460M [00:03<00:00, 133MB/s]\n"
          ]
        }
      ],
      "source": [
        "import os\n",
        "import pandas as pd\n",
        "\n",
        "# load data set & unzip\n",
        "os.environ['KAGGLE_USERNAME'] = 'felixn95'\n",
        "os.environ['KAGGLE_KEY'] = 'f5ebbbcff77a95e44ac5acb1093c4c6a'\n",
        "\n",
        "!kaggle competitions download -c widsdatathon2019\n",
        "!unzip -q widsdatathon2019.zip\n",
        "!unzip -q train_images.zip\n",
        "!unzip -q leaderboard_test_data.zip\n",
        "\n",
        "# Define Paths\n",
        "train_images = '/content/train_images'\n",
        "test_images =  '/content/leaderboard_test_data'\n",
        "train_labels = '/content/traininglabels.csv'\n",
        "test_labels = '/content/testlabels.csv'\n",
        "\n",
        "def adjust_image_ids(input_csv_path, output_csv_path):\n",
        "    \"\"\"\n",
        "    Adjusts the image_ids in the input CSV file by removing the year digits before '.jpg'\n",
        "    and saves the modified DataFrame to the output CSV path.\n",
        "    \"\"\"\n",
        "\n",
        "    df = pd.read_csv(input_csv_path)\n",
        "\n",
        "    # Modify the 'image_id' column\n",
        "    df['image_id'] = df['image_id'].str.replace(r'\\d{4}\\.jpg', '.jpg', regex=True)\n",
        "\n",
        "    # Save to the output CSV file\n",
        "    df.to_csv(output_csv_path, index=False)\n",
        "\n",
        "\n",
        "adjust_image_ids(train_labels, 'traininglabels_processed.csv')\n",
        "adjust_image_ids(test_labels, 'testlabels_processed.csv')\n",
        "\n",
        "train_labels = '/content/traininglabels_processed.csv'\n",
        "test_labels = '/content/testlabels_processed.csv'\n",
        "\n",
        "def filter_missing_images(csv_file, image_dir, target_file):\n",
        "    # Read the CSV file\n",
        "    df = pd.read_csv(csv_file)\n",
        "\n",
        "    # Filter out rows where the image file does not exist\n",
        "    df_filtered = df[df['image_id'].apply(lambda x: os.path.exists(os.path.join(image_dir, x)))]\n",
        "\n",
        "    # Save the filtered DataFrame\n",
        "    df_filtered.to_csv(target_file, index=False)\n",
        "\n",
        "filter_missing_images(train_labels, train_images, '/content/train_labels_filtered.csv')\n",
        "filter_missing_images(test_labels, test_images, '/content/test_labels_filtered.csv')\n",
        "\n",
        "train_labels = '/content/train_labels_filtered.csv'\n",
        "test_labels = '/content/test_labels_filtered.csv'"
      ]
    },
    {
      "cell_type": "markdown",
      "source": [
        "# Training & Tracking"
      ],
      "metadata": {
        "id": "gZQXuojxS2Ie"
      }
    },
    {
      "cell_type": "code",
      "source": [
        "import os\n",
        "import neptune\n",
        "import torch\n",
        "import wwf\n",
        "import fastai\n",
        "import timm\n",
        "from wwf.vision.timm import timm_learner\n",
        "from fastai.callback.all import SaveModelCallback\n",
        "from fastai.vision.all import *\n",
        "from neptune.integrations.fastai import NeptuneCallback\n",
        "from neptune.types import File\n",
        "\n",
        "def get_x(row, train_images):\n",
        "    return os.path.join(train_images, row['image_id'])\n",
        "\n",
        "def get_y(row):\n",
        "    return row['has_oilpalm']\n",
        "\n",
        "def create_dataloader(item_size, batch_size=64):\n",
        "    # Create data block\n",
        "    palm_data_block = DataBlock(\n",
        "        blocks=(ImageBlock, CategoryBlock),\n",
        "        get_x=partial(get_x, train_images=train_images),\n",
        "        get_y=get_y,\n",
        "        splitter=RandomSplitter(valid_pct=0.2, seed=42),\n",
        "        item_tfms=Resize(item_size),\n",
        "        batch_tfms=aug_transforms()\n",
        "    )\n",
        "\n",
        "    # Create data loaders\n",
        "    dls = palm_data_block.dataloaders(pd.read_csv(train_labels), bs=batch_size)\n",
        "    return dls\n"
      ],
      "metadata": {
        "id": "a3j_ICt84PZW"
      },
      "execution_count": 4,
      "outputs": []
    },
    {
      "cell_type": "markdown",
      "source": [
        "## Created Methods for easier Training and Tracking"
      ],
      "metadata": {
        "id": "OP4ZH0k8mH0y"
      }
    },
    {
      "cell_type": "code",
      "source": [
        "def train_model_with_optimal_lr(model, epochs, item_size, project_name, tag, batch_size):\n",
        "    api_token=\"eyJhcGlfYWRkcmVzcyI6Imh0dHBzOi8vYXBwLm5lcHR1bmUuYWkiLCJhcGlfdXJsIjoiaHR0cHM6Ly9hcHAubmVwdHVuZS5haSIsImFwaV9rZXkiOiI2ZjExOTA0Yy0zZjhhLTQ3Y2MtYjYzNy1kY2Q1OGMwODAyYWUifQ==\"\n",
        "    run = neptune.init_run(project=project_name, api_token=api_token, tags=tag)\n",
        "\n",
        "    dls = create_dataloader(item_size, batch_size)\n",
        "    learner = vision_learner(dls, arch=model, metrics=accuracy)\n",
        "\n",
        "    # Find optimal learning rate\n",
        "    lr_min, lr_steep = learner.lr_find(suggest_funcs=(valley, steep))\n",
        "\n",
        "    # Neptune callback\n",
        "    neptune_cbk = NeptuneCallback(run=run)\n",
        "\n",
        "    # Callback for logging metrics after each epoch\n",
        "    class NeptuneRecorderCallback(Callback):\n",
        "      def after_epoch(self):\n",
        "          # Get the current epoch number\n",
        "          epoch = self.learn.epoch\n",
        "\n",
        "          # Convert the AvgMetric to a float and log the accuracy\n",
        "          # Save the metrics in different paths, to make sure each epoch is saved\n",
        "          accuracy = self.learn.recorder.metrics[-1].value\n",
        "          run[f'epoch_{epoch}/accuracy'].log(accuracy)\n",
        "\n",
        "          # Log the validation loss\n",
        "          valid_loss = self.learn.recorder.log[-1]\n",
        "          run[f'epoch_{epoch}/valid_loss'].log(valid_loss)\n",
        "\n",
        "\n",
        "    # Train with callbacks\n",
        "    learner.fit_one_cycle(epochs, lr_max=lr_min,\n",
        "                          cbs=[SaveModelCallback(),\n",
        "                               EarlyStoppingCallback(monitor='valid_loss', min_delta=0.02, patience=3),\n",
        "                               neptune_cbk,\n",
        "                               NeptuneRecorderCallback()])\n",
        "\n",
        "    run.stop()\n",
        "    learner.remove_cb(neptune_cbk)\n",
        "    learner.export(f\"./{tag}\")\n",
        "\n",
        "    # Free resources\n",
        "    del learner\n",
        "    torch.cuda.empty_cache()\n",
        "\n",
        "\n",
        "def train_multiple_models_with_optimal_lr(models, epochs_list, item_size, project_name, batch_size):\n",
        "    for model in models:\n",
        "        for epochs in epochs_list:\n",
        "            # Constructs a unique tag for each training run (i.e resnet18_3_epochs)\n",
        "            tag = f'{model}_{epochs}_epochs'\n",
        "\n",
        "            # Call the training function with the current model and epoch count\n",
        "            train_model_with_optimal_lr(model, epochs, item_size, project_name, tag, batch_size)"
      ],
      "metadata": {
        "id": "v2CeVxxUq91u"
      },
      "execution_count": 5,
      "outputs": []
    },
    {
      "cell_type": "markdown",
      "source": [
        "The EarlyStoppingCallback in the context of training machine learning models, specifically here with FastAI, is a feature that monitors the training process and stops it early if certain conditions are met. Let's break down the parameters:\n",
        "\n",
        "monitor='valid_loss': This specifies the metric to be monitored. In this case, it's the validation loss. The callback will keep an eye on this metric to decide when to stop the training.\n",
        "\n",
        "min_delta=0.01: This sets the minimum change in the monitored metric to qualify as an improvement. Here, it means that the validation loss must decrease by at least 0.01 to be considered an improvement.\n",
        "\n",
        "patience=3: This is the number of epochs with no improvement after which training will be stopped. In this case, if the validation loss does not decrease by at least 0.01 for 3 consecutive epochs, the training process will be halted.\n",
        "\n",
        "So, putting it all together: The EarlyStoppingCallback is set to monitor the validation loss during training. If the validation loss does not improve by at least 0.01 for 3 consecutive epochs, the training process will be stopped early. This helps in preventing overfitting and can also save time and computational"
      ],
      "metadata": {
        "id": "LErMUv9pum1l"
      }
    },
    {
      "cell_type": "code",
      "source": [
        "# Available pretrained models from fast.ai\n",
        "model_set = {\n",
        "    \"resnet18\", \"resnet34\", \"resnet50\", \"resnet101\", \"resnet152\",\n",
        "    \"squeezenet1_0\", \"squeezenet1_1\",\n",
        "    \"densenet121\", \"densenet169\", \"densenet201\", \"densenet161\",\n",
        "    \"vgg16_bn\", \"vgg19_bn\",\n",
        "    \"alexnet\"\n",
        "}"
      ],
      "metadata": {
        "id": "aw_EXpkivf9L"
      },
      "execution_count": 6,
      "outputs": []
    },
    {
      "cell_type": "markdown",
      "source": [
        "# Densenet169 and Densenet121\n",
        "\n",
        "The models were trained with a batch size of 64, 3 and 5 epochs each."
      ],
      "metadata": {
        "id": "dg1IpHPsYQeY"
      }
    },
    {
      "cell_type": "code",
      "source": [
        "item_size = 256\n",
        "\n",
        "# try different versions of densenet models\n",
        "\n",
        "models = [\"densenet169\", \"densenet121\"]  # models to train\n",
        "epochs_list = [3,5]  # epochs to test per models\n",
        "project_name = 'model-comparison'\n",
        "batch_size = 64\n",
        "\n",
        "train_multiple_models_with_optimal_lr(models, epochs_list, item_size, project_name, batch_size)"
      ],
      "metadata": {
        "colab": {
          "base_uri": "https://localhost:8080/",
          "height": 1000,
          "referenced_widgets": [
            "3f5c88f6bdb9449badebb5657b15cefc",
            "fa4596911efe4463a65a78ad1f382000",
            "ad162f42e0fb45e7a149d94e067b687b",
            "85d10271f2d5461f947cb1980e5d209d",
            "c022afa93f4949fa8b827c9f4f7df3c5",
            "ed7a8c94eacb4175ac963c236514efd7",
            "b6a8f0cd79a743df9d909013db4fef64",
            "4f62fd5e50ea4e9a8e057a94039a4498",
            "ffd861fbe467418982631042ff744b4f",
            "059ee462194647648e3eaf8097441efb",
            "b814f6c5127f4b72bc4b6bff3282b51c",
            "b75bcedf956447e7a36182c1018b7eb6",
            "9465a3bae53e4f8caaaad71ff051c94a",
            "0d45912162c34708a60b36444fbaff15",
            "2990f1c8e3f94767a2cfc0c2143e6487",
            "377be73b50c141f6bdd6864c13cabefd",
            "55f77da03ba64b49ab1f1c55a1e95c03",
            "403c8f5167d34eb3b5fddc962b056096",
            "d17972af2ae940baa641add9f3a9832b",
            "9021837ea58b42a8b4e758f4d6872cc3",
            "18064bde00c44e3daa00c1c52b75c491",
            "6d2421caa72c48d89289b6baadc2ca44"
          ]
        },
        "id": "7GmzSyWSYbzj",
        "outputId": "ddaf1abc-d8f5-45ee-fdc8-9a03870f1c08"
      },
      "execution_count": 7,
      "outputs": [
        {
          "output_type": "stream",
          "name": "stderr",
          "text": [
            "<ipython-input-5-b8ce841360f5>:3: NeptuneWarning: The following monitoring options are disabled by default in interactive sessions: 'capture_stdout', 'capture_stderr', 'capture_traceback', and 'capture_hardware_metrics'. To enable them, set each parameter to 'True' when initializing the run. The monitoring will continue until you call run.stop() or the kernel stops. Also note: Your source files can only be tracked if you pass the path(s) to the 'source_code' argument. For help, see the Neptune docs: https://docs.neptune.ai/logging/source_code/\n",
            "  run = neptune.init_run(project=project_name, api_token=api_token, tags=tag)\n"
          ]
        },
        {
          "output_type": "stream",
          "name": "stdout",
          "text": [
            "https://app.neptune.ai/tds-ws23/model-comparison/e/MOD1-18\n"
          ]
        },
        {
          "output_type": "stream",
          "name": "stderr",
          "text": [
            "/usr/local/lib/python3.10/dist-packages/huggingface_hub/utils/_token.py:88: UserWarning: \n",
            "The secret `HF_TOKEN` does not exist in your Colab secrets.\n",
            "To authenticate with the Hugging Face Hub, create a token in your settings tab (https://huggingface.co/settings/tokens), set it as secret in your Google Colab and restart your session.\n",
            "You will be able to reuse this secret in all of your notebooks.\n",
            "Please note that authentication is recommended but still optional to access public models or datasets.\n",
            "  warnings.warn(\n"
          ]
        },
        {
          "output_type": "display_data",
          "data": {
            "text/plain": [
              "model.safetensors:   0%|          | 0.00/57.4M [00:00<?, ?B/s]"
            ],
            "application/vnd.jupyter.widget-view+json": {
              "version_major": 2,
              "version_minor": 0,
              "model_id": "3f5c88f6bdb9449badebb5657b15cefc"
            }
          },
          "metadata": {}
        },
        {
          "output_type": "display_data",
          "data": {
            "text/plain": [
              "<IPython.core.display.HTML object>"
            ],
            "text/html": [
              "\n",
              "<style>\n",
              "    /* Turns off some styling */\n",
              "    progress {\n",
              "        /* gets rid of default border in Firefox and Opera. */\n",
              "        border: none;\n",
              "        /* Needs to be in here for Safari polyfill so background images work as expected. */\n",
              "        background-size: auto;\n",
              "    }\n",
              "    progress:not([value]), progress:not([value])::-webkit-progress-bar {\n",
              "        background: repeating-linear-gradient(45deg, #7e7e7e, #7e7e7e 10px, #5c5c5c 10px, #5c5c5c 20px);\n",
              "    }\n",
              "    .progress-bar-interrupted, .progress-bar-interrupted::-webkit-progress-bar {\n",
              "        background: #F44336;\n",
              "    }\n",
              "</style>\n"
            ]
          },
          "metadata": {}
        },
        {
          "output_type": "display_data",
          "data": {
            "text/plain": [
              "<IPython.core.display.HTML object>"
            ],
            "text/html": []
          },
          "metadata": {}
        },
        {
          "output_type": "display_data",
          "data": {
            "text/plain": [
              "<IPython.core.display.HTML object>"
            ],
            "text/html": [
              "\n",
              "<style>\n",
              "    /* Turns off some styling */\n",
              "    progress {\n",
              "        /* gets rid of default border in Firefox and Opera. */\n",
              "        border: none;\n",
              "        /* Needs to be in here for Safari polyfill so background images work as expected. */\n",
              "        background-size: auto;\n",
              "    }\n",
              "    progress:not([value]), progress:not([value])::-webkit-progress-bar {\n",
              "        background: repeating-linear-gradient(45deg, #7e7e7e, #7e7e7e 10px, #5c5c5c 10px, #5c5c5c 20px);\n",
              "    }\n",
              "    .progress-bar-interrupted, .progress-bar-interrupted::-webkit-progress-bar {\n",
              "        background: #F44336;\n",
              "    }\n",
              "</style>\n"
            ]
          },
          "metadata": {}
        },
        {
          "output_type": "display_data",
          "data": {
            "text/plain": [
              "<IPython.core.display.HTML object>"
            ],
            "text/html": [
              "<table border=\"1\" class=\"dataframe\">\n",
              "  <thead>\n",
              "    <tr style=\"text-align: left;\">\n",
              "      <th>epoch</th>\n",
              "      <th>train_loss</th>\n",
              "      <th>valid_loss</th>\n",
              "      <th>accuracy</th>\n",
              "      <th>time</th>\n",
              "    </tr>\n",
              "  </thead>\n",
              "  <tbody>\n",
              "    <tr>\n",
              "      <td>0</td>\n",
              "      <td>0.354863</td>\n",
              "      <td>0.342715</td>\n",
              "      <td>0.930920</td>\n",
              "      <td>02:50</td>\n",
              "    </tr>\n",
              "    <tr>\n",
              "      <td>1</td>\n",
              "      <td>0.225673</td>\n",
              "      <td>0.282136</td>\n",
              "      <td>0.932913</td>\n",
              "      <td>02:49</td>\n",
              "    </tr>\n",
              "    <tr>\n",
              "      <td>2</td>\n",
              "      <td>0.197408</td>\n",
              "      <td>0.311703</td>\n",
              "      <td>0.930588</td>\n",
              "      <td>02:49</td>\n",
              "    </tr>\n",
              "  </tbody>\n",
              "</table>"
            ]
          },
          "metadata": {}
        },
        {
          "output_type": "stream",
          "name": "stdout",
          "text": [
            "Better model found at epoch 0 with valid_loss value: 0.34271517395973206.\n",
            "Better model found at epoch 1 with valid_loss value: 0.2821355164051056.\n",
            "Shutting down background jobs, please wait a moment...\n",
            "Done!\n",
            "Waiting for the remaining 12 operations to synchronize with Neptune. Do not kill this process.\n",
            "All 12 operations synced, thanks for waiting!\n",
            "Explore the metadata in the Neptune app:\n",
            "https://app.neptune.ai/tds-ws23/model-comparison/e/MOD1-18/metadata\n",
            "https://app.neptune.ai/tds-ws23/model-comparison/e/MOD1-19\n"
          ]
        },
        {
          "output_type": "display_data",
          "data": {
            "text/plain": [
              "<IPython.core.display.HTML object>"
            ],
            "text/html": [
              "\n",
              "<style>\n",
              "    /* Turns off some styling */\n",
              "    progress {\n",
              "        /* gets rid of default border in Firefox and Opera. */\n",
              "        border: none;\n",
              "        /* Needs to be in here for Safari polyfill so background images work as expected. */\n",
              "        background-size: auto;\n",
              "    }\n",
              "    progress:not([value]), progress:not([value])::-webkit-progress-bar {\n",
              "        background: repeating-linear-gradient(45deg, #7e7e7e, #7e7e7e 10px, #5c5c5c 10px, #5c5c5c 20px);\n",
              "    }\n",
              "    .progress-bar-interrupted, .progress-bar-interrupted::-webkit-progress-bar {\n",
              "        background: #F44336;\n",
              "    }\n",
              "</style>\n"
            ]
          },
          "metadata": {}
        },
        {
          "output_type": "display_data",
          "data": {
            "text/plain": [
              "<IPython.core.display.HTML object>"
            ],
            "text/html": []
          },
          "metadata": {}
        },
        {
          "output_type": "display_data",
          "data": {
            "text/plain": [
              "<IPython.core.display.HTML object>"
            ],
            "text/html": [
              "\n",
              "<style>\n",
              "    /* Turns off some styling */\n",
              "    progress {\n",
              "        /* gets rid of default border in Firefox and Opera. */\n",
              "        border: none;\n",
              "        /* Needs to be in here for Safari polyfill so background images work as expected. */\n",
              "        background-size: auto;\n",
              "    }\n",
              "    progress:not([value]), progress:not([value])::-webkit-progress-bar {\n",
              "        background: repeating-linear-gradient(45deg, #7e7e7e, #7e7e7e 10px, #5c5c5c 10px, #5c5c5c 20px);\n",
              "    }\n",
              "    .progress-bar-interrupted, .progress-bar-interrupted::-webkit-progress-bar {\n",
              "        background: #F44336;\n",
              "    }\n",
              "</style>\n"
            ]
          },
          "metadata": {}
        },
        {
          "output_type": "display_data",
          "data": {
            "text/plain": [
              "<IPython.core.display.HTML object>"
            ],
            "text/html": [
              "<table border=\"1\" class=\"dataframe\">\n",
              "  <thead>\n",
              "    <tr style=\"text-align: left;\">\n",
              "      <th>epoch</th>\n",
              "      <th>train_loss</th>\n",
              "      <th>valid_loss</th>\n",
              "      <th>accuracy</th>\n",
              "      <th>time</th>\n",
              "    </tr>\n",
              "  </thead>\n",
              "  <tbody>\n",
              "    <tr>\n",
              "      <td>0</td>\n",
              "      <td>0.363981</td>\n",
              "      <td>0.373622</td>\n",
              "      <td>0.930588</td>\n",
              "      <td>02:50</td>\n",
              "    </tr>\n",
              "    <tr>\n",
              "      <td>1</td>\n",
              "      <td>0.282500</td>\n",
              "      <td>0.225962</td>\n",
              "      <td>0.921289</td>\n",
              "      <td>02:48</td>\n",
              "    </tr>\n",
              "    <tr>\n",
              "      <td>2</td>\n",
              "      <td>0.225206</td>\n",
              "      <td>0.204067</td>\n",
              "      <td>0.932248</td>\n",
              "      <td>02:48</td>\n",
              "    </tr>\n",
              "    <tr>\n",
              "      <td>3</td>\n",
              "      <td>0.195647</td>\n",
              "      <td>0.195641</td>\n",
              "      <td>0.929259</td>\n",
              "      <td>02:48</td>\n",
              "    </tr>\n",
              "    <tr>\n",
              "      <td>4</td>\n",
              "      <td>0.209239</td>\n",
              "      <td>0.198027</td>\n",
              "      <td>0.933245</td>\n",
              "      <td>02:48</td>\n",
              "    </tr>\n",
              "  </tbody>\n",
              "</table>"
            ]
          },
          "metadata": {}
        },
        {
          "output_type": "stream",
          "name": "stdout",
          "text": [
            "Better model found at epoch 0 with valid_loss value: 0.37362179160118103.\n",
            "Better model found at epoch 1 with valid_loss value: 0.22596189379692078.\n",
            "Better model found at epoch 2 with valid_loss value: 0.20406724512577057.\n",
            "Better model found at epoch 3 with valid_loss value: 0.19564108550548553.\n",
            "Shutting down background jobs, please wait a moment...\n",
            "Done!\n",
            "Waiting for the remaining 10 operations to synchronize with Neptune. Do not kill this process.\n",
            "All 10 operations synced, thanks for waiting!\n",
            "Explore the metadata in the Neptune app:\n",
            "https://app.neptune.ai/tds-ws23/model-comparison/e/MOD1-19/metadata\n",
            "https://app.neptune.ai/tds-ws23/model-comparison/e/MOD1-20\n"
          ]
        },
        {
          "output_type": "display_data",
          "data": {
            "text/plain": [
              "model.safetensors:   0%|          | 0.00/32.3M [00:00<?, ?B/s]"
            ],
            "application/vnd.jupyter.widget-view+json": {
              "version_major": 2,
              "version_minor": 0,
              "model_id": "b75bcedf956447e7a36182c1018b7eb6"
            }
          },
          "metadata": {}
        },
        {
          "output_type": "display_data",
          "data": {
            "text/plain": [
              "<IPython.core.display.HTML object>"
            ],
            "text/html": [
              "\n",
              "<style>\n",
              "    /* Turns off some styling */\n",
              "    progress {\n",
              "        /* gets rid of default border in Firefox and Opera. */\n",
              "        border: none;\n",
              "        /* Needs to be in here for Safari polyfill so background images work as expected. */\n",
              "        background-size: auto;\n",
              "    }\n",
              "    progress:not([value]), progress:not([value])::-webkit-progress-bar {\n",
              "        background: repeating-linear-gradient(45deg, #7e7e7e, #7e7e7e 10px, #5c5c5c 10px, #5c5c5c 20px);\n",
              "    }\n",
              "    .progress-bar-interrupted, .progress-bar-interrupted::-webkit-progress-bar {\n",
              "        background: #F44336;\n",
              "    }\n",
              "</style>\n"
            ]
          },
          "metadata": {}
        },
        {
          "output_type": "display_data",
          "data": {
            "text/plain": [
              "<IPython.core.display.HTML object>"
            ],
            "text/html": []
          },
          "metadata": {}
        },
        {
          "output_type": "display_data",
          "data": {
            "text/plain": [
              "<IPython.core.display.HTML object>"
            ],
            "text/html": [
              "\n",
              "<style>\n",
              "    /* Turns off some styling */\n",
              "    progress {\n",
              "        /* gets rid of default border in Firefox and Opera. */\n",
              "        border: none;\n",
              "        /* Needs to be in here for Safari polyfill so background images work as expected. */\n",
              "        background-size: auto;\n",
              "    }\n",
              "    progress:not([value]), progress:not([value])::-webkit-progress-bar {\n",
              "        background: repeating-linear-gradient(45deg, #7e7e7e, #7e7e7e 10px, #5c5c5c 10px, #5c5c5c 20px);\n",
              "    }\n",
              "    .progress-bar-interrupted, .progress-bar-interrupted::-webkit-progress-bar {\n",
              "        background: #F44336;\n",
              "    }\n",
              "</style>\n"
            ]
          },
          "metadata": {}
        },
        {
          "output_type": "display_data",
          "data": {
            "text/plain": [
              "<IPython.core.display.HTML object>"
            ],
            "text/html": [
              "<table border=\"1\" class=\"dataframe\">\n",
              "  <thead>\n",
              "    <tr style=\"text-align: left;\">\n",
              "      <th>epoch</th>\n",
              "      <th>train_loss</th>\n",
              "      <th>valid_loss</th>\n",
              "      <th>accuracy</th>\n",
              "      <th>time</th>\n",
              "    </tr>\n",
              "  </thead>\n",
              "  <tbody>\n",
              "    <tr>\n",
              "      <td>0</td>\n",
              "      <td>0.360076</td>\n",
              "      <td>0.239638</td>\n",
              "      <td>0.925606</td>\n",
              "      <td>02:20</td>\n",
              "    </tr>\n",
              "    <tr>\n",
              "      <td>1</td>\n",
              "      <td>0.225779</td>\n",
              "      <td>0.221241</td>\n",
              "      <td>0.931916</td>\n",
              "      <td>02:19</td>\n",
              "    </tr>\n",
              "    <tr>\n",
              "      <td>2</td>\n",
              "      <td>0.197624</td>\n",
              "      <td>0.202532</td>\n",
              "      <td>0.932913</td>\n",
              "      <td>02:19</td>\n",
              "    </tr>\n",
              "  </tbody>\n",
              "</table>"
            ]
          },
          "metadata": {}
        },
        {
          "output_type": "stream",
          "name": "stdout",
          "text": [
            "Better model found at epoch 0 with valid_loss value: 0.23963762819766998.\n",
            "Better model found at epoch 1 with valid_loss value: 0.22124090790748596.\n",
            "Better model found at epoch 2 with valid_loss value: 0.20253196358680725.\n",
            "Shutting down background jobs, please wait a moment...\n",
            "Done!\n",
            "Waiting for the remaining 32 operations to synchronize with Neptune. Do not kill this process.\n",
            "All 32 operations synced, thanks for waiting!\n",
            "Explore the metadata in the Neptune app:\n",
            "https://app.neptune.ai/tds-ws23/model-comparison/e/MOD1-20/metadata\n",
            "https://app.neptune.ai/tds-ws23/model-comparison/e/MOD1-21\n"
          ]
        },
        {
          "output_type": "display_data",
          "data": {
            "text/plain": [
              "<IPython.core.display.HTML object>"
            ],
            "text/html": [
              "\n",
              "<style>\n",
              "    /* Turns off some styling */\n",
              "    progress {\n",
              "        /* gets rid of default border in Firefox and Opera. */\n",
              "        border: none;\n",
              "        /* Needs to be in here for Safari polyfill so background images work as expected. */\n",
              "        background-size: auto;\n",
              "    }\n",
              "    progress:not([value]), progress:not([value])::-webkit-progress-bar {\n",
              "        background: repeating-linear-gradient(45deg, #7e7e7e, #7e7e7e 10px, #5c5c5c 10px, #5c5c5c 20px);\n",
              "    }\n",
              "    .progress-bar-interrupted, .progress-bar-interrupted::-webkit-progress-bar {\n",
              "        background: #F44336;\n",
              "    }\n",
              "</style>\n"
            ]
          },
          "metadata": {}
        },
        {
          "output_type": "display_data",
          "data": {
            "text/plain": [
              "<IPython.core.display.HTML object>"
            ],
            "text/html": []
          },
          "metadata": {}
        },
        {
          "output_type": "display_data",
          "data": {
            "text/plain": [
              "<IPython.core.display.HTML object>"
            ],
            "text/html": [
              "\n",
              "<style>\n",
              "    /* Turns off some styling */\n",
              "    progress {\n",
              "        /* gets rid of default border in Firefox and Opera. */\n",
              "        border: none;\n",
              "        /* Needs to be in here for Safari polyfill so background images work as expected. */\n",
              "        background-size: auto;\n",
              "    }\n",
              "    progress:not([value]), progress:not([value])::-webkit-progress-bar {\n",
              "        background: repeating-linear-gradient(45deg, #7e7e7e, #7e7e7e 10px, #5c5c5c 10px, #5c5c5c 20px);\n",
              "    }\n",
              "    .progress-bar-interrupted, .progress-bar-interrupted::-webkit-progress-bar {\n",
              "        background: #F44336;\n",
              "    }\n",
              "</style>\n"
            ]
          },
          "metadata": {}
        },
        {
          "output_type": "display_data",
          "data": {
            "text/plain": [
              "<IPython.core.display.HTML object>"
            ],
            "text/html": [
              "<table border=\"1\" class=\"dataframe\">\n",
              "  <thead>\n",
              "    <tr style=\"text-align: left;\">\n",
              "      <th>epoch</th>\n",
              "      <th>train_loss</th>\n",
              "      <th>valid_loss</th>\n",
              "      <th>accuracy</th>\n",
              "      <th>time</th>\n",
              "    </tr>\n",
              "  </thead>\n",
              "  <tbody>\n",
              "    <tr>\n",
              "      <td>0</td>\n",
              "      <td>0.413982</td>\n",
              "      <td>0.251001</td>\n",
              "      <td>0.932581</td>\n",
              "      <td>02:20</td>\n",
              "    </tr>\n",
              "    <tr>\n",
              "      <td>1</td>\n",
              "      <td>0.238994</td>\n",
              "      <td>0.231034</td>\n",
              "      <td>0.924610</td>\n",
              "      <td>02:21</td>\n",
              "    </tr>\n",
              "    <tr>\n",
              "      <td>2</td>\n",
              "      <td>0.226769</td>\n",
              "      <td>0.209808</td>\n",
              "      <td>0.933577</td>\n",
              "      <td>02:19</td>\n",
              "    </tr>\n",
              "    <tr>\n",
              "      <td>3</td>\n",
              "      <td>0.196584</td>\n",
              "      <td>0.204905</td>\n",
              "      <td>0.928927</td>\n",
              "      <td>02:19</td>\n",
              "    </tr>\n",
              "    <tr>\n",
              "      <td>4</td>\n",
              "      <td>0.187261</td>\n",
              "      <td>0.200852</td>\n",
              "      <td>0.929924</td>\n",
              "      <td>02:19</td>\n",
              "    </tr>\n",
              "  </tbody>\n",
              "</table>"
            ]
          },
          "metadata": {}
        },
        {
          "output_type": "stream",
          "name": "stdout",
          "text": [
            "Better model found at epoch 0 with valid_loss value: 0.2510005235671997.\n",
            "Better model found at epoch 1 with valid_loss value: 0.2310343086719513.\n",
            "Better model found at epoch 2 with valid_loss value: 0.20980775356292725.\n",
            "Better model found at epoch 3 with valid_loss value: 0.20490527153015137.\n",
            "Better model found at epoch 4 with valid_loss value: 0.20085228979587555.\n",
            "Shutting down background jobs, please wait a moment...\n",
            "Done!\n",
            "Waiting for the remaining 34 operations to synchronize with Neptune. Do not kill this process.\n",
            "All 34 operations synced, thanks for waiting!\n",
            "Explore the metadata in the Neptune app:\n",
            "https://app.neptune.ai/tds-ws23/model-comparison/e/MOD1-21/metadata\n"
          ]
        },
        {
          "output_type": "display_data",
          "data": {
            "text/plain": [
              "<Figure size 640x480 with 1 Axes>"
            ],
            "image/png": "[encoded data removed]"
          },
          "metadata": {}
        },
        {
          "output_type": "display_data",
          "data": {
            "text/plain": [
              "<Figure size 640x480 with 1 Axes>"
            ],
            "image/png": "[encoded data removed]"
          },
          "metadata": {}
        },
        {
          "output_type": "display_data",
          "data": {
            "text/plain": [
              "<Figure size 640x480 with 1 Axes>"
            ],
            "image/png": "[encoded data removed]"
          },
          "metadata": {}
        },
        {
          "output_type": "display_data",
          "data": {
            "text/plain": [
              "<Figure size 640x480 with 1 Axes>"
            ],
            "image/png": "[encoded data removed]"
          },
          "metadata": {}
        }
      ]
    },
    {
      "cell_type": "markdown",
      "source": [
        "# Evaluation\n",
        "\n",
        "![image.png](data:image/png;base64,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)"
      ],
      "metadata": {
        "id": "PcWGAOLK2OrE"
      }
    },
    {
      "cell_type": "markdown",
      "source": [
        "As can be seen in the overview, the best performance was done by\n",
        "\n",
        "- densenet169 after 5 epochs\n",
        "- accuracy: 0.933245"
      ],
      "metadata": {
        "id": "Hkzg_EEq4syL"
      }
    },
    {
      "cell_type": "markdown",
      "source": [
        "# Densenet201\n",
        "\n",
        "Due to the higher size of this models, it was trained in a single run with 3 epochs and a batch size of 32 (64 was running into out of memory)."
      ],
      "metadata": {
        "id": "jdwc5LpLVf2B"
      }
    },
    {
      "cell_type": "code",
      "source": [
        "item_size = 256\n",
        "\n",
        "# try different versions of densenet models\n",
        "\n",
        "models = [\"densenet201\"]  # models to train\n",
        "epochs_list = [3]  # epochs to test per models\n",
        "project_name = 'model-comparison'\n",
        "batch_size = 32\n",
        "\n",
        "train_multiple_models_with_optimal_lr(models, epochs_list, item_size, project_name, batch_size)\n"
      ],
      "metadata": {
        "id": "JHdhsRb3UHNh",
        "colab": {
          "base_uri": "https://localhost:8080/",
          "height": 928,
          "referenced_widgets": [
            "5b1ee4bad5a84c8889c4f1b76325e4cd",
            "a55475d39422467399eda89a79d84ddb",
            "4e751b81d5f444cdbbe82f8b794c3505",
            "e4d95667df9b499996b9426119aa8dba",
            "2b6993e962bf4209b25187946ee55e20",
            "3692ddc1db1841c6847ce939902b6ba3",
            "e89e628d112840fbb4025db211a4de1e",
            "695aac67248744328d83de85d5cdadaf",
            "bf62dd87e7b14a3faf3d5a9d76e6ba11",
            "d6e831c3fa6e46b09a705c4e6592c8b0",
            "61672e000866449282a3fc00f2af3264"
          ]
        },
        "outputId": "5ada2d87-515a-41b3-efd5-7cc83acf42d4"
      },
      "execution_count": 8,
      "outputs": [
        {
          "output_type": "stream",
          "name": "stderr",
          "text": [
            "<ipython-input-6-d01cf3b6a9b7>:3: NeptuneWarning: The following monitoring options are disabled by default in interactive sessions: 'capture_stdout', 'capture_stderr', 'capture_traceback', and 'capture_hardware_metrics'. To enable them, set each parameter to 'True' when initializing the run. The monitoring will continue until you call run.stop() or the kernel stops. Also note: Your source files can only be tracked if you pass the path(s) to the 'source_code' argument. For help, see the Neptune docs: https://docs.neptune.ai/logging/source_code/\n",
            "  run = neptune.init_run(project=project_name, api_token=api_token, tags=tag)\n"
          ]
        },
        {
          "output_type": "stream",
          "name": "stdout",
          "text": [
            "https://app.neptune.ai/tds-ws23/model-comparison/e/MOD1-8\n"
          ]
        },
        {
          "output_type": "stream",
          "name": "stderr",
          "text": [
            "/usr/local/lib/python3.10/dist-packages/huggingface_hub/utils/_token.py:88: UserWarning: \n",
            "The secret `HF_TOKEN` does not exist in your Colab secrets.\n",
            "To authenticate with the Hugging Face Hub, create a token in your settings tab (https://huggingface.co/settings/tokens), set it as secret in your Google Colab and restart your session.\n",
            "You will be able to reuse this secret in all of your notebooks.\n",
            "Please note that authentication is recommended but still optional to access public models or datasets.\n",
            "  warnings.warn(\n"
          ]
        },
        {
          "output_type": "display_data",
          "data": {
            "text/plain": [
              "model.safetensors:   0%|          | 0.00/81.1M [00:00<?, ?B/s]"
            ],
            "application/vnd.jupyter.widget-view+json": {
              "version_major": 2,
              "version_minor": 0,
              "model_id": "5b1ee4bad5a84c8889c4f1b76325e4cd"
            }
          },
          "metadata": {}
        },
        {
          "output_type": "display_data",
          "data": {
            "text/plain": [
              "<IPython.core.display.HTML object>"
            ],
            "text/html": [
              "\n",
              "<style>\n",
              "    /* Turns off some styling */\n",
              "    progress {\n",
              "        /* gets rid of default border in Firefox and Opera. */\n",
              "        border: none;\n",
              "        /* Needs to be in here for Safari polyfill so background images work as expected. */\n",
              "        background-size: auto;\n",
              "    }\n",
              "    progress:not([value]), progress:not([value])::-webkit-progress-bar {\n",
              "        background: repeating-linear-gradient(45deg, #7e7e7e, #7e7e7e 10px, #5c5c5c 10px, #5c5c5c 20px);\n",
              "    }\n",
              "    .progress-bar-interrupted, .progress-bar-interrupted::-webkit-progress-bar {\n",
              "        background: #F44336;\n",
              "    }\n",
              "</style>\n"
            ]
          },
          "metadata": {}
        },
        {
          "output_type": "display_data",
          "data": {
            "text/plain": [
              "<IPython.core.display.HTML object>"
            ],
            "text/html": []
          },
          "metadata": {}
        },
        {
          "output_type": "display_data",
          "data": {
            "text/plain": [
              "<IPython.core.display.HTML object>"
            ],
            "text/html": [
              "\n",
              "<style>\n",
              "    /* Turns off some styling */\n",
              "    progress {\n",
              "        /* gets rid of default border in Firefox and Opera. */\n",
              "        border: none;\n",
              "        /* Needs to be in here for Safari polyfill so background images work as expected. */\n",
              "        background-size: auto;\n",
              "    }\n",
              "    progress:not([value]), progress:not([value])::-webkit-progress-bar {\n",
              "        background: repeating-linear-gradient(45deg, #7e7e7e, #7e7e7e 10px, #5c5c5c 10px, #5c5c5c 20px);\n",
              "    }\n",
              "    .progress-bar-interrupted, .progress-bar-interrupted::-webkit-progress-bar {\n",
              "        background: #F44336;\n",
              "    }\n",
              "</style>\n"
            ]
          },
          "metadata": {}
        },
        {
          "output_type": "display_data",
          "data": {
            "text/plain": [
              "<IPython.core.display.HTML object>"
            ],
            "text/html": [
              "<table border=\"1\" class=\"dataframe\">\n",
              "  <thead>\n",
              "    <tr style=\"text-align: left;\">\n",
              "      <th>epoch</th>\n",
              "      <th>train_loss</th>\n",
              "      <th>valid_loss</th>\n",
              "      <th>accuracy</th>\n",
              "      <th>time</th>\n",
              "    </tr>\n",
              "  </thead>\n",
              "  <tbody>\n",
              "    <tr>\n",
              "      <td>0</td>\n",
              "      <td>0.384864</td>\n",
              "      <td>0.244507</td>\n",
              "      <td>0.933245</td>\n",
              "      <td>03:43</td>\n",
              "    </tr>\n",
              "    <tr>\n",
              "      <td>1</td>\n",
              "      <td>0.288386</td>\n",
              "      <td>0.266210</td>\n",
              "      <td>0.913650</td>\n",
              "      <td>03:46</td>\n",
              "    </tr>\n",
              "    <tr>\n",
              "      <td>2</td>\n",
              "      <td>0.216117</td>\n",
              "      <td>0.303740</td>\n",
              "      <td>0.931584</td>\n",
              "      <td>03:41</td>\n",
              "    </tr>\n",
              "  </tbody>\n",
              "</table>"
            ]
          },
          "metadata": {}
        },
        {
          "output_type": "stream",
          "name": "stdout",
          "text": [
            "Better model found at epoch 0 with valid_loss value: 0.24450699985027313.\n",
            "No improvement since epoch 0: early stopping\n",
            "Shutting down background jobs, please wait a moment...\n",
            "Done!\n",
            "Waiting for the remaining 44 operations to synchronize with Neptune. Do not kill this process.\n",
            "All 44 operations synced, thanks for waiting!\n",
            "Explore the metadata in the Neptune app:\n",
            "https://app.neptune.ai/tds-ws23/model-comparison/e/MOD1-8/metadata\n"
          ]
        },
        {
          "output_type": "display_data",
          "data": {
            "text/plain": [
              "<Figure size 640x480 with 1 Axes>"
            ],
            "image/png": "[encoded data removed]"
          },
          "metadata": {}
        }
      ]
    },
    {
      "cell_type": "markdown",
      "source": [
        "### Some explanations for the result metrics:\n",
        "**train_loss**: This is the loss calculated on the training dataset during training. It's a measure of the error between the model's predictions and the actual values. A lower train_loss indicates the model is performing better on the training data.\n",
        "\n",
        "**valid_loss**: This is the loss calculated on a separate validation dataset that is not used for training. It's used to evaluate how well the model is generalizing to new, unseen data. Like train_loss, a lower valid_loss is better.\n",
        "\n",
        "**accuracy**: This measures the percentage of correct predictions made by the model. Higher accuracy indicates better performance.\n",
        "\n",
        "Regarding the observation that the model's performance (as indicated by valid_loss and accuracy) gets worse after the first epoch:\n",
        "\n",
        "**Overfitting**: The model might be overfitting the training data. This means it's learning the training data too well, including its noise and outliers, which harms its performance on new data (the validation set).\n",
        "\n",
        "**Learning Rate:** If the learning rate is too high, the model may overshoot the optimal point in the loss landscape.\n",
        "\n",
        "Unfortunetaly, also runs with different learning rate did not improve the accuracy. Nevertheless, an accuracy of 0.933245 is not bad.  \n"
      ],
      "metadata": {
        "id": "Qu9fHqJhXMuE"
      }
    }
  ]
}