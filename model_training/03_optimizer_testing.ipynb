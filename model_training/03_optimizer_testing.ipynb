{
  "cells": [
    {
      "cell_type": "markdown",
      "metadata": {
        "id": "b8UcsyxkSXtR"
      },
      "source": [
        "# Notebook for Training & Tracking Models using NeptuneAI\n",
        "Here, necessary installations are executed. Also, the data is downloaded and split into test and train set and prepared for further processing."
      ]
    },
    {
      "cell_type": "code",
      "source": [
        "!pip install -q gwpy"
      ],
      "metadata": {
        "id": "yArGSXB4qij_"
      },
      "execution_count": null,
      "outputs": []
    },
    {
      "cell_type": "code",
      "execution_count": null,
      "metadata": {
        "id": "yUA8fws0ZMvf"
      },
      "outputs": [],
      "source": [
        "%%capture\n",
        "!pip install torch torchvision\n",
        "!pip install fastai neptune neptune-fastai --q\n",
        "#Test\n",
        "#!pip install pretrainedmodels"
      ]
    },
    {
      "cell_type": "code",
      "execution_count": null,
      "metadata": {
        "id": "Bn02B5auSPLW"
      },
      "outputs": [],
      "source": [
        "%%capture\n",
        "\n",
        "# load data set & unzip\n",
        "\n",
        "!wget https://github.com/felixn95/tds_project/raw/main/wisdatathon2019.zip\n",
        "!unzip wisdatathon2019.zip\n",
        "!unzip wisdatathon2019/train_images.zip\n",
        "!unzip wisdatathon2019/leaderboard_test_data.zip\n",
        "\n",
        "train_images = '/content/train_images'\n",
        "test_images =  '/content/leaderboard_test_data'\n",
        "train_labels = '/content/wisdatathon2019/traininglabels.csv'\n",
        "test_labels = '/content/wisdatathon2019/testlabels.csv'"
      ]
    },
    {
      "cell_type": "markdown",
      "metadata": {
        "id": "Am5Bj9PLSiQj"
      },
      "source": [
        "The labeled images in the labels csv's do not fit to the image ids, because we need to remove the year at the end of the string in each row."
      ]
    },
    {
      "cell_type": "code",
      "execution_count": null,
      "metadata": {
        "id": "RLuw8K8VSkqY"
      },
      "outputs": [],
      "source": [
        "import pandas as pd\n",
        "import os\n",
        "\n",
        "def adjust_image_ids(input_csv_path, output_csv_path):\n",
        "    \"\"\"\n",
        "    Adjusts the image_ids in the input CSV file by removing the year digits before '.jpg'\n",
        "    and saves the modified DataFrame to the output CSV path.\n",
        "    \"\"\"\n",
        "\n",
        "    df = pd.read_csv(input_csv_path)\n",
        "\n",
        "    # Modify the 'image_id' column\n",
        "    df['image_id'] = df['image_id'].str.replace(r'\\d{4}\\.jpg', '.jpg', regex=True)\n",
        "\n",
        "    # Save to the output CSV file\n",
        "    df.to_csv(output_csv_path, index=False)\n",
        "\n",
        "\n",
        "adjust_image_ids(train_labels, 'traininglabels_processed.csv')\n",
        "adjust_image_ids(test_labels, 'testlabels_processed.csv')\n",
        "\n",
        "train_labels = '/content/traininglabels_processed.csv'\n",
        "test_labels = '/content/testlabels_processed.csv'\n",
        "\n",
        "def filter_missing_images(csv_file, image_dir, target_file):\n",
        "    # Read the CSV file\n",
        "    df = pd.read_csv(csv_file)\n",
        "\n",
        "    # Filter out rows where the image file does not exist\n",
        "    df_filtered = df[df['image_id'].apply(lambda x: os.path.exists(os.path.join(image_dir, x)))]\n",
        "\n",
        "    # Save the filtered DataFrame\n",
        "    df_filtered.to_csv(target_file, index=False)\n",
        "\n",
        "filter_missing_images(train_labels, train_images, '/content/train_labels_filtered.csv')\n",
        "filter_missing_images(test_labels, test_images, '/content/test_labels_filtered.csv')\n",
        "\n",
        "train_labels = '/content/train_labels_filtered.csv'\n",
        "test_labels = '/content/test_labels_filtered.csv'\n"
      ]
    },
    {
      "cell_type": "markdown",
      "metadata": {
        "id": "gZQXuojxS2Ie"
      },
      "source": [
        "# Training & Tracking\n",
        "Here, the datablock is defined. Also necessary imports for training and tracking of the models are executed"
      ]
    },
    {
      "cell_type": "code",
      "execution_count": null,
      "metadata": {
        "id": "aiBE5jbFS7OE"
      },
      "outputs": [],
      "source": [
        "import neptune\n",
        "import torch\n",
        "import fastai\n",
        "from fastai.callback.all import SaveModelCallback\n",
        "from fastai.vision.all import *\n",
        "from neptune.integrations.fastai import NeptuneCallback\n",
        "from neptune.types import File"
      ]
    },
    {
      "cell_type": "code",
      "execution_count": null,
      "metadata": {
        "id": "JHdhsRb3UHNh"
      },
      "outputs": [],
      "source": [
        "# Create Data Block\n",
        "def get_x(row):\n",
        "    return os.path.join(train_images, row['image_id'])\n",
        "\n",
        "def get_y(row):\n",
        "    return row['has_oilpalm']\n",
        "\n",
        "# create data block\n",
        "\n",
        "palm_data_block = DataBlock(\n",
        "    blocks=(ImageBlock, CategoryBlock),\n",
        "    get_x=get_x,\n",
        "    get_y=get_y,\n",
        "    splitter=RandomSplitter(valid_pct=0.2, seed=42),\n",
        "    item_tfms=Resize(256),\n",
        "    batch_tfms=aug_transforms()\n",
        ")"
      ]
    },
    {
      "cell_type": "markdown",
      "source": [
        "#Confidence Score <.75 deleted\n",
        "\n",
        "Here, we clean the dataset from low confidence images to reduce the noise in the dataset. In retrosprective, this was very helpful for the models results, increasing the accuracy by ~1% on average."
      ],
      "metadata": {
        "id": "Mij7YRnLxDYL"
      }
    },
    {
      "cell_type": "code",
      "source": [
        "df_train_labels = pd.read_csv(train_labels)\n",
        "df_train_labels[df_train_labels['score']<0.6]\n",
        "\n",
        "del train_labels"
      ],
      "metadata": {
        "id": "64LAgRg3xGyn"
      },
      "execution_count": null,
      "outputs": []
    },
    {
      "cell_type": "code",
      "source": [
        "filtered_df_train_labels = df_train_labels[df_train_labels['score'] >= 0.75]\n",
        "\n",
        "\n",
        "# Save the filtered labels to a new CSV file\n",
        "filtered_labels_path = '/content/filtered_training_labels.csv'\n",
        "filtered_df_train_labels.to_csv(filtered_labels_path, index=False)\n",
        "\n",
        "\n",
        "train_labels = '/content/filtered_training_labels.csv'"
      ],
      "metadata": {
        "id": "d_pQ1sh6yJ-K"
      },
      "execution_count": null,
      "outputs": []
    },
    {
      "cell_type": "code",
      "source": [
        "filtered_df_train_labels"
      ],
      "metadata": {
        "colab": {
          "base_uri": "https://localhost:8080/",
          "height": 687
        },
        "id": "qxRi4C-TyTHv",
        "outputId": "eef72363-411a-40fc-c34b-4026c5d23f32"
      },
      "execution_count": null,
      "outputs": [
        {
          "output_type": "execute_result",
          "data": {
            "text/plain": [
              "            image_id  has_oilpalm   score\n",
              "0      img_00000.jpg            0  0.7895\n",
              "1      img_00001.jpg            0  1.0000\n",
              "2      img_00002.jpg            0  1.0000\n",
              "3      img_00007.jpg            0  1.0000\n",
              "4      img_00008.jpg            0  1.0000\n",
              "...              ...          ...     ...\n",
              "15051  img_10992.jpg            0  0.8107\n",
              "15052  img_10994.jpg            0  1.0000\n",
              "15053  img_10995.jpg            0  1.0000\n",
              "15054  img_10997.jpg            0  1.0000\n",
              "15056  img_10999.jpg            0  1.0000\n",
              "\n",
              "[14268 rows x 3 columns]"
            ],
            "text/html": [
              "\n",
              "  <div id=\"df-f1b79624-5ad5-40e3-bd6e-1c6a41e03383\" class=\"colab-df-container\">\n",
              "    <div>\n",
              "<style scoped>\n",
              "    .dataframe tbody tr th:only-of-type {\n",
              "        vertical-align: middle;\n",
              "    }\n",
              "\n",
              "    .dataframe tbody tr th {\n",
              "        vertical-align: top;\n",
              "    }\n",
              "\n",
              "    .dataframe thead th {\n",
              "        text-align: right;\n",
              "    }\n",
              "</style>\n",
              "<table border=\"1\" class=\"dataframe\">\n",
              "  <thead>\n",
              "    <tr style=\"text-align: right;\">\n",
              "      <th></th>\n",
              "      <th>image_id</th>\n",
              "      <th>has_oilpalm</th>\n",
              "      <th>score</th>\n",
              "    </tr>\n",
              "  </thead>\n",
              "  <tbody>\n",
              "    <tr>\n",
              "      <th>0</th>\n",
              "      <td>img_00000.jpg</td>\n",
              "      <td>0</td>\n",
              "      <td>0.7895</td>\n",
              "    </tr>\n",
              "    <tr>\n",
              "      <th>1</th>\n",
              "      <td>img_00001.jpg</td>\n",
              "      <td>0</td>\n",
              "      <td>1.0000</td>\n",
              "    </tr>\n",
              "    <tr>\n",
              "      <th>2</th>\n",
              "      <td>img_00002.jpg</td>\n",
              "      <td>0</td>\n",
              "      <td>1.0000</td>\n",
              "    </tr>\n",
              "    <tr>\n",
              "      <th>3</th>\n",
              "      <td>img_00007.jpg</td>\n",
              "      <td>0</td>\n",
              "      <td>1.0000</td>\n",
              "    </tr>\n",
              "    <tr>\n",
              "      <th>4</th>\n",
              "      <td>img_00008.jpg</td>\n",
              "      <td>0</td>\n",
              "      <td>1.0000</td>\n",
              "    </tr>\n",
              "    <tr>\n",
              "      <th>...</th>\n",
              "      <td>...</td>\n",
              "      <td>...</td>\n",
              "      <td>...</td>\n",
              "    </tr>\n",
              "    <tr>\n",
              "      <th>15051</th>\n",
              "      <td>img_10992.jpg</td>\n",
              "      <td>0</td>\n",
              "      <td>0.8107</td>\n",
              "    </tr>\n",
              "    <tr>\n",
              "      <th>15052</th>\n",
              "      <td>img_10994.jpg</td>\n",
              "      <td>0</td>\n",
              "      <td>1.0000</td>\n",
              "    </tr>\n",
              "    <tr>\n",
              "      <th>15053</th>\n",
              "      <td>img_10995.jpg</td>\n",
              "      <td>0</td>\n",
              "      <td>1.0000</td>\n",
              "    </tr>\n",
              "    <tr>\n",
              "      <th>15054</th>\n",
              "      <td>img_10997.jpg</td>\n",
              "      <td>0</td>\n",
              "      <td>1.0000</td>\n",
              "    </tr>\n",
              "    <tr>\n",
              "      <th>15056</th>\n",
              "      <td>img_10999.jpg</td>\n",
              "      <td>0</td>\n",
              "      <td>1.0000</td>\n",
              "    </tr>\n",
              "  </tbody>\n",
              "</table>\n",
              "<p>14268 rows × 3 columns</p>\n",
              "</div>\n",
              "    <div class=\"colab-df-buttons\">\n",
              "\n",
              "  <div class=\"colab-df-container\">\n",
              "    <button class=\"colab-df-convert\" onclick=\"convertToInteractive('df-f1b79624-5ad5-40e3-bd6e-1c6a41e03383')\"\n",
              "            title=\"Convert this dataframe to an interactive table.\"\n",
              "            style=\"display:none;\">\n",
              "\n",
              "  <svg xmlns=\"http://www.w3.org/2000/svg\" height=\"24px\" viewBox=\"0 -960 960 960\">\n",
              "    <path d=\"M120-120v-720h720v720H120Zm60-500h600v-160H180v160Zm220 220h160v-160H400v160Zm0 220h160v-160H400v160ZM180-400h160v-160H180v160Zm440 0h160v-160H620v160ZM180-180h160v-160H180v160Zm440 0h160v-160H620v160Z\"/>\n",
              "  </svg>\n",
              "    </button>\n",
              "\n",
              "  <style>\n",
              "    .colab-df-container {\n",
              "      display:flex;\n",
              "      gap: 12px;\n",
              "    }\n",
              "\n",
              "    .colab-df-convert {\n",
              "      background-color: #E8F0FE;\n",
              "      border: none;\n",
              "      border-radius: 50%;\n",
              "      cursor: pointer;\n",
              "      display: none;\n",
              "      fill: #1967D2;\n",
              "      height: 32px;\n",
              "      padding: 0 0 0 0;\n",
              "      width: 32px;\n",
              "    }\n",
              "\n",
              "    .colab-df-convert:hover {\n",
              "      background-color: #E2EBFA;\n",
              "      box-shadow: 0px 1px 2px rgba(60, 64, 67, 0.3), 0px 1px 3px 1px rgba(60, 64, 67, 0.15);\n",
              "      fill: #174EA6;\n",
              "    }\n",
              "\n",
              "    .colab-df-buttons div {\n",
              "      margin-bottom: 4px;\n",
              "    }\n",
              "\n",
              "    [theme=dark] .colab-df-convert {\n",
              "      background-color: #3B4455;\n",
              "      fill: #D2E3FC;\n",
              "    }\n",
              "\n",
              "    [theme=dark] .colab-df-convert:hover {\n",
              "      background-color: #434B5C;\n",
              "      box-shadow: 0px 1px 3px 1px rgba(0, 0, 0, 0.15);\n",
              "      filter: drop-shadow(0px 1px 2px rgba(0, 0, 0, 0.3));\n",
              "      fill: #FFFFFF;\n",
              "    }\n",
              "  </style>\n",
              "\n",
              "    <script>\n",
              "      const buttonEl =\n",
              "        document.querySelector('#df-f1b79624-5ad5-40e3-bd6e-1c6a41e03383 button.colab-df-convert');\n",
              "      buttonEl.style.display =\n",
              "        google.colab.kernel.accessAllowed ? 'block' : 'none';\n",
              "\n",
              "      async function convertToInteractive(key) {\n",
              "        const element = document.querySelector('#df-f1b79624-5ad5-40e3-bd6e-1c6a41e03383');\n",
              "        const dataTable =\n",
              "          await google.colab.kernel.invokeFunction('convertToInteractive',\n",
              "                                                    [key], {});\n",
              "        if (!dataTable) return;\n",
              "\n",
              "        const docLinkHtml = 'Like what you see? Visit the ' +\n",
              "          '<a target=\"_blank\" href=https://colab.research.google.com/notebooks/data_table.ipynb>data table notebook</a>'\n",
              "          + ' to learn more about interactive tables.';\n",
              "        element.innerHTML = '';\n",
              "        dataTable['output_type'] = 'display_data';\n",
              "        await google.colab.output.renderOutput(dataTable, element);\n",
              "        const docLink = document.createElement('div');\n",
              "        docLink.innerHTML = docLinkHtml;\n",
              "        element.appendChild(docLink);\n",
              "      }\n",
              "    </script>\n",
              "  </div>\n",
              "\n",
              "\n",
              "<div id=\"df-a48b46e6-74ce-43d1-86db-63e2e6d16292\">\n",
              "  <button class=\"colab-df-quickchart\" onclick=\"quickchart('df-a48b46e6-74ce-43d1-86db-63e2e6d16292')\"\n",
              "            title=\"Suggest charts\"\n",
              "            style=\"display:none;\">\n",
              "\n",
              "<svg xmlns=\"http://www.w3.org/2000/svg\" height=\"24px\"viewBox=\"0 0 24 24\"\n",
              "     width=\"24px\">\n",
              "    <g>\n",
              "        <path d=\"M19 3H5c-1.1 0-2 .9-2 2v14c0 1.1.9 2 2 2h14c1.1 0 2-.9 2-2V5c0-1.1-.9-2-2-2zM9 17H7v-7h2v7zm4 0h-2V7h2v10zm4 0h-2v-4h2v4z\"/>\n",
              "    </g>\n",
              "</svg>\n",
              "  </button>\n",
              "\n",
              "<style>\n",
              "  .colab-df-quickchart {\n",
              "      --bg-color: #E8F0FE;\n",
              "      --fill-color: #1967D2;\n",
              "      --hover-bg-color: #E2EBFA;\n",
              "      --hover-fill-color: #174EA6;\n",
              "      --disabled-fill-color: #AAA;\n",
              "      --disabled-bg-color: #DDD;\n",
              "  }\n",
              "\n",
              "  [theme=dark] .colab-df-quickchart {\n",
              "      --bg-color: #3B4455;\n",
              "      --fill-color: #D2E3FC;\n",
              "      --hover-bg-color: #434B5C;\n",
              "      --hover-fill-color: #FFFFFF;\n",
              "      --disabled-bg-color: #3B4455;\n",
              "      --disabled-fill-color: #666;\n",
              "  }\n",
              "\n",
              "  .colab-df-quickchart {\n",
              "    background-color: var(--bg-color);\n",
              "    border: none;\n",
              "    border-radius: 50%;\n",
              "    cursor: pointer;\n",
              "    display: none;\n",
              "    fill: var(--fill-color);\n",
              "    height: 32px;\n",
              "    padding: 0;\n",
              "    width: 32px;\n",
              "  }\n",
              "\n",
              "  .colab-df-quickchart:hover {\n",
              "    background-color: var(--hover-bg-color);\n",
              "    box-shadow: 0 1px 2px rgba(60, 64, 67, 0.3), 0 1px 3px 1px rgba(60, 64, 67, 0.15);\n",
              "    fill: var(--button-hover-fill-color);\n",
              "  }\n",
              "\n",
              "  .colab-df-quickchart-complete:disabled,\n",
              "  .colab-df-quickchart-complete:disabled:hover {\n",
              "    background-color: var(--disabled-bg-color);\n",
              "    fill: var(--disabled-fill-color);\n",
              "    box-shadow: none;\n",
              "  }\n",
              "\n",
              "  .colab-df-spinner {\n",
              "    border: 2px solid var(--fill-color);\n",
              "    border-color: transparent;\n",
              "    border-bottom-color: var(--fill-color);\n",
              "    animation:\n",
              "      spin 1s steps(1) infinite;\n",
              "  }\n",
              "\n",
              "  @keyframes spin {\n",
              "    0% {\n",
              "      border-color: transparent;\n",
              "      border-bottom-color: var(--fill-color);\n",
              "      border-left-color: var(--fill-color);\n",
              "    }\n",
              "    20% {\n",
              "      border-color: transparent;\n",
              "      border-left-color: var(--fill-color);\n",
              "      border-top-color: var(--fill-color);\n",
              "    }\n",
              "    30% {\n",
              "      border-color: transparent;\n",
              "      border-left-color: var(--fill-color);\n",
              "      border-top-color: var(--fill-color);\n",
              "      border-right-color: var(--fill-color);\n",
              "    }\n",
              "    40% {\n",
              "      border-color: transparent;\n",
              "      border-right-color: var(--fill-color);\n",
              "      border-top-color: var(--fill-color);\n",
              "    }\n",
              "    60% {\n",
              "      border-color: transparent;\n",
              "      border-right-color: var(--fill-color);\n",
              "    }\n",
              "    80% {\n",
              "      border-color: transparent;\n",
              "      border-right-color: var(--fill-color);\n",
              "      border-bottom-color: var(--fill-color);\n",
              "    }\n",
              "    90% {\n",
              "      border-color: transparent;\n",
              "      border-bottom-color: var(--fill-color);\n",
              "    }\n",
              "  }\n",
              "</style>\n",
              "\n",
              "  <script>\n",
              "    async function quickchart(key) {\n",
              "      const quickchartButtonEl =\n",
              "        document.querySelector('#' + key + ' button');\n",
              "      quickchartButtonEl.disabled = true;  // To prevent multiple clicks.\n",
              "      quickchartButtonEl.classList.add('colab-df-spinner');\n",
              "      try {\n",
              "        const charts = await google.colab.kernel.invokeFunction(\n",
              "            'suggestCharts', [key], {});\n",
              "      } catch (error) {\n",
              "        console.error('Error during call to suggestCharts:', error);\n",
              "      }\n",
              "      quickchartButtonEl.classList.remove('colab-df-spinner');\n",
              "      quickchartButtonEl.classList.add('colab-df-quickchart-complete');\n",
              "    }\n",
              "    (() => {\n",
              "      let quickchartButtonEl =\n",
              "        document.querySelector('#df-a48b46e6-74ce-43d1-86db-63e2e6d16292 button');\n",
              "      quickchartButtonEl.style.display =\n",
              "        google.colab.kernel.accessAllowed ? 'block' : 'none';\n",
              "    })();\n",
              "  </script>\n",
              "</div>\n",
              "    </div>\n",
              "  </div>\n"
            ]
          },
          "metadata": {},
          "execution_count": 14
        }
      ]
    },
    {
      "cell_type": "code",
      "source": [
        "# Create filtered Data Loader\n",
        "\n",
        "dls = palm_data_block.dataloaders(pd.read_csv(filtered_labels_path), bs=64)"
      ],
      "metadata": {
        "id": "7JYhTH43x3wN"
      },
      "execution_count": null,
      "outputs": []
    },
    {
      "cell_type": "code",
      "execution_count": null,
      "metadata": {
        "id": "9WORV7sWUGhZ"
      },
      "outputs": [],
      "source": [
        "# Available pretrained models from fast.ai\n",
        "model_set = {\n",
        "    \"resnet18\", \"resnet34\", \"resnet50\", \"resnet101\", \"resnet152\",\n",
        "    \"squeezenet1_0\", \"squeezenet1_1\",\n",
        "    \"densenet121\", \"densenet169\", \"densenet201\", \"densenet161\",\n",
        "    \"vgg16_bn\", \"vgg19_bn\",\n",
        "    \"alexnet\",\n",
        "}"
      ]
    },
    {
      "cell_type": "markdown",
      "source": [
        "#Testing Optimizers\n",
        "In the following section different optimizers are tested. The results will be further processed later in the notebook. For evaluating the models, no further data augmentation has taken place. Due to the available resources the batch size needs to be adjusted depending on the model.\n",
        "\n",
        "The results of this optimizer evaluation can be found at [th Github repo](https://)\n",
        "\n",
        "SGD, Adam, RMSProp(https://arxiv.org/pdf/1910.05446.pdf, https://www.sciencedirect.com/science/article/pii/S2214785321013316)"
      ],
      "metadata": {
        "id": "jVDeqV0gzjae"
      }
    },
    {
      "cell_type": "markdown",
      "metadata": {
        "id": "i9DwI07arvZj"
      },
      "source": [
        "###1. Modell - Adam"
      ]
    },
    {
      "cell_type": "code",
      "execution_count": null,
      "metadata": {
        "colab": {
          "base_uri": "https://localhost:8080/"
        },
        "id": "btMR4TZ7UEdm",
        "outputId": "936c828b-e8fa-496c-c852-36a030392c50"
      },
      "outputs": [
        {
          "output_type": "stream",
          "name": "stdout",
          "text": [
            "https://app.neptune.ai/tds-ws23/Sven-models/e/SVEN-100\n"
          ]
        },
        {
          "output_type": "stream",
          "name": "stderr",
          "text": [
            "Downloading: \"https://download.pytorch.org/models/alexnet-owt-7be5be79.pth\" to /root/.cache/torch/hub/checkpoints/alexnet-owt-7be5be79.pth\n",
            "100%|██████████| 233M/233M [00:02<00:00, 93.9MB/s]\n"
          ]
        }
      ],
      "source": [
        "run_alexnet = neptune.init_run(project='tds-ws23/Sven-models', api_token=\"eyJhcGlfYWRkcmVzcyI6Imh0dHBzOi8vYXBwLm5lcHR1bmUuYWkiLCJhcGlfdXJsIjoiaHR0cHM6Ly9hcHAubmVwdHVuZS5haSIsImFwaV9rZXkiOiIzZWFhNDQ1ZS1mNTI0LTQ3MGUtOTY5MC02NDZlZGE1NmY4NTEifQ==\",\n",
        "                   tags=\"alexnet\")\n",
        "\n",
        "# Neptune callback object\n",
        "\n",
        "neptune_cbk = NeptuneCallback(run=run_alexnet)\n",
        "\n",
        "# Create a fast ai learner and pass the model and NeptuneCallback parameters including the specific run\n",
        "\n",
        "alexnet_learner = cnn_learner(dls, alexnet, cbs=[neptune_cbk], metrics=accuracy, opt_func=Adam)\n",
        "\n"
      ]
    },
    {
      "cell_type": "code",
      "execution_count": null,
      "metadata": {
        "colab": {
          "base_uri": "https://localhost:8080/",
          "height": 454
        },
        "id": "qDmFbFxyT5gy",
        "outputId": "fe7feb05-6fd5-46c9-c73e-b8b239fc687f"
      },
      "outputs": [
        {
          "output_type": "display_data",
          "data": {
            "text/plain": [
              "<IPython.core.display.HTML object>"
            ],
            "text/html": [
              "\n",
              "<style>\n",
              "    /* Turns off some styling */\n",
              "    progress {\n",
              "        /* gets rid of default border in Firefox and Opera. */\n",
              "        border: none;\n",
              "        /* Needs to be in here for Safari polyfill so background images work as expected. */\n",
              "        background-size: auto;\n",
              "    }\n",
              "    progress:not([value]), progress:not([value])::-webkit-progress-bar {\n",
              "        background: repeating-linear-gradient(45deg, #7e7e7e, #7e7e7e 10px, #5c5c5c 10px, #5c5c5c 20px);\n",
              "    }\n",
              "    .progress-bar-interrupted, .progress-bar-interrupted::-webkit-progress-bar {\n",
              "        background: #F44336;\n",
              "    }\n",
              "</style>\n"
            ]
          },
          "metadata": {}
        },
        {
          "output_type": "display_data",
          "data": {
            "text/plain": [
              "<IPython.core.display.HTML object>"
            ],
            "text/html": []
          },
          "metadata": {}
        },
        {
          "output_type": "display_data",
          "data": {
            "text/plain": [
              "<Figure size 640x480 with 1 Axes>"
            ],
            "image/png": "[encoded data removed]"
          },
          "metadata": {}
        }
      ],
      "source": [
        "current_lr = alexnet_learner.lr_find()"
      ]
    },
    {
      "cell_type": "code",
      "execution_count": null,
      "metadata": {
        "id": "QAo8PeKQT1xq",
        "colab": {
          "base_uri": "https://localhost:8080/",
          "height": 161
        },
        "outputId": "16bfd09f-29d5-4e98-f4f5-50f5e4dd26b9"
      },
      "outputs": [
        {
          "output_type": "display_data",
          "data": {
            "text/plain": [
              "<IPython.core.display.HTML object>"
            ],
            "text/html": [
              "\n",
              "<style>\n",
              "    /* Turns off some styling */\n",
              "    progress {\n",
              "        /* gets rid of default border in Firefox and Opera. */\n",
              "        border: none;\n",
              "        /* Needs to be in here for Safari polyfill so background images work as expected. */\n",
              "        background-size: auto;\n",
              "    }\n",
              "    progress:not([value]), progress:not([value])::-webkit-progress-bar {\n",
              "        background: repeating-linear-gradient(45deg, #7e7e7e, #7e7e7e 10px, #5c5c5c 10px, #5c5c5c 20px);\n",
              "    }\n",
              "    .progress-bar-interrupted, .progress-bar-interrupted::-webkit-progress-bar {\n",
              "        background: #F44336;\n",
              "    }\n",
              "</style>\n"
            ]
          },
          "metadata": {}
        },
        {
          "output_type": "display_data",
          "data": {
            "text/plain": [
              "<IPython.core.display.HTML object>"
            ],
            "text/html": [
              "<table border=\"1\" class=\"dataframe\">\n",
              "  <thead>\n",
              "    <tr style=\"text-align: left;\">\n",
              "      <th>epoch</th>\n",
              "      <th>train_loss</th>\n",
              "      <th>valid_loss</th>\n",
              "      <th>accuracy</th>\n",
              "      <th>time</th>\n",
              "    </tr>\n",
              "  </thead>\n",
              "  <tbody>\n",
              "    <tr>\n",
              "      <td>0</td>\n",
              "      <td>0.338121</td>\n",
              "      <td>0.299636</td>\n",
              "      <td>0.930588</td>\n",
              "      <td>01:03</td>\n",
              "    </tr>\n",
              "    <tr>\n",
              "      <td>1</td>\n",
              "      <td>0.274967</td>\n",
              "      <td>0.315489</td>\n",
              "      <td>0.929924</td>\n",
              "      <td>01:05</td>\n",
              "    </tr>\n",
              "    <tr>\n",
              "      <td>2</td>\n",
              "      <td>0.249928</td>\n",
              "      <td>0.225047</td>\n",
              "      <td>0.929924</td>\n",
              "      <td>01:16</td>\n",
              "    </tr>\n",
              "  </tbody>\n",
              "</table>"
            ]
          },
          "metadata": {}
        },
        {
          "output_type": "stream",
          "name": "stdout",
          "text": [
            "No improvement since epoch 0: early stopping\n"
          ]
        }
      ],
      "source": [
        "# run for 10 epochs\n",
        "alexnet_learner.fit_one_cycle(10, lr_max=current_lr, cbs=[EarlyStoppingCallback(monitor='accuracy', patience=2, comp=np.greater)])"
      ]
    },
    {
      "cell_type": "code",
      "execution_count": null,
      "metadata": {
        "id": "Qp3JVqKzd3nl"
      },
      "outputs": [],
      "source": [
        "#Delete Cuda Cache\n",
        "del alexnet_learner,\n",
        "\n",
        "torch.cuda.empty_cache()"
      ]
    },
    {
      "cell_type": "markdown",
      "metadata": {
        "id": "u-6_icNZrnEq"
      },
      "source": [
        "### 2. Modell - RMSProp"
      ]
    },
    {
      "cell_type": "code",
      "execution_count": null,
      "metadata": {
        "id": "4bNovdhYrmgn",
        "colab": {
          "base_uri": "https://localhost:8080/"
        },
        "outputId": "f0182306-adcb-4246-81d0-c10025ed8bbb"
      },
      "outputs": [
        {
          "output_type": "stream",
          "name": "stdout",
          "text": [
            "https://app.neptune.ai/tds-ws23/Sven-models/e/SVEN-101\n"
          ]
        }
      ],
      "source": [
        "run_alexnet = neptune.init_run(project='tds-ws23/Sven-models', api_token=\"eyJhcGlfYWRkcmVzcyI6Imh0dHBzOi8vYXBwLm5lcHR1bmUuYWkiLCJhcGlfdXJsIjoiaHR0cHM6Ly9hcHAubmVwdHVuZS5haSIsImFwaV9rZXkiOiIzZWFhNDQ1ZS1mNTI0LTQ3MGUtOTY5MC02NDZlZGE1NmY4NTEifQ==\",\n",
        "                   tags=\"alexnet\")\n",
        "\n",
        "# Neptune callback object\n",
        "\n",
        "neptune_cbk = NeptuneCallback(run=run_alexnet)\n",
        "\n",
        "# Create a fast ai learner and pass the model and NeptuneCallback parameters including the specific run\n",
        "\n",
        "alexnet_learner = cnn_learner(dls, alexnet, cbs=[neptune_cbk], metrics=accuracy, opt_func=RMSProp)"
      ]
    },
    {
      "cell_type": "code",
      "execution_count": null,
      "metadata": {
        "id": "U4As3SD2r7Fz",
        "colab": {
          "base_uri": "https://localhost:8080/",
          "height": 454
        },
        "outputId": "2d036093-2349-497b-e689-310cae28d321"
      },
      "outputs": [
        {
          "output_type": "display_data",
          "data": {
            "text/plain": [
              "<IPython.core.display.HTML object>"
            ],
            "text/html": [
              "\n",
              "<style>\n",
              "    /* Turns off some styling */\n",
              "    progress {\n",
              "        /* gets rid of default border in Firefox and Opera. */\n",
              "        border: none;\n",
              "        /* Needs to be in here for Safari polyfill so background images work as expected. */\n",
              "        background-size: auto;\n",
              "    }\n",
              "    progress:not([value]), progress:not([value])::-webkit-progress-bar {\n",
              "        background: repeating-linear-gradient(45deg, #7e7e7e, #7e7e7e 10px, #5c5c5c 10px, #5c5c5c 20px);\n",
              "    }\n",
              "    .progress-bar-interrupted, .progress-bar-interrupted::-webkit-progress-bar {\n",
              "        background: #F44336;\n",
              "    }\n",
              "</style>\n"
            ]
          },
          "metadata": {}
        },
        {
          "output_type": "display_data",
          "data": {
            "text/plain": [
              "<IPython.core.display.HTML object>"
            ],
            "text/html": []
          },
          "metadata": {}
        },
        {
          "output_type": "display_data",
          "data": {
            "text/plain": [
              "<Figure size 640x480 with 1 Axes>"
            ],
            "image/png": "[encoded data removed]"
          },
          "metadata": {}
        }
      ],
      "source": [
        "current_lr = alexnet_learner.lr_find()"
      ]
    },
    {
      "cell_type": "code",
      "execution_count": null,
      "metadata": {
        "id": "odF7SZ84r_9V",
        "colab": {
          "base_uri": "https://localhost:8080/",
          "height": 224
        },
        "outputId": "3f181c8c-a7e5-4b50-f2b3-f26ecf466a1a"
      },
      "outputs": [
        {
          "output_type": "display_data",
          "data": {
            "text/plain": [
              "<IPython.core.display.HTML object>"
            ],
            "text/html": [
              "\n",
              "<style>\n",
              "    /* Turns off some styling */\n",
              "    progress {\n",
              "        /* gets rid of default border in Firefox and Opera. */\n",
              "        border: none;\n",
              "        /* Needs to be in here for Safari polyfill so background images work as expected. */\n",
              "        background-size: auto;\n",
              "    }\n",
              "    progress:not([value]), progress:not([value])::-webkit-progress-bar {\n",
              "        background: repeating-linear-gradient(45deg, #7e7e7e, #7e7e7e 10px, #5c5c5c 10px, #5c5c5c 20px);\n",
              "    }\n",
              "    .progress-bar-interrupted, .progress-bar-interrupted::-webkit-progress-bar {\n",
              "        background: #F44336;\n",
              "    }\n",
              "</style>\n"
            ]
          },
          "metadata": {}
        },
        {
          "output_type": "display_data",
          "data": {
            "text/plain": [
              "<IPython.core.display.HTML object>"
            ],
            "text/html": [
              "<table border=\"1\" class=\"dataframe\">\n",
              "  <thead>\n",
              "    <tr style=\"text-align: left;\">\n",
              "      <th>epoch</th>\n",
              "      <th>train_loss</th>\n",
              "      <th>valid_loss</th>\n",
              "      <th>accuracy</th>\n",
              "      <th>time</th>\n",
              "    </tr>\n",
              "  </thead>\n",
              "  <tbody>\n",
              "    <tr>\n",
              "      <td>0</td>\n",
              "      <td>0.686368</td>\n",
              "      <td>0.353993</td>\n",
              "      <td>0.908004</td>\n",
              "      <td>01:06</td>\n",
              "    </tr>\n",
              "    <tr>\n",
              "      <td>1</td>\n",
              "      <td>0.289190</td>\n",
              "      <td>0.255995</td>\n",
              "      <td>0.929259</td>\n",
              "      <td>01:04</td>\n",
              "    </tr>\n",
              "    <tr>\n",
              "      <td>2</td>\n",
              "      <td>0.252059</td>\n",
              "      <td>0.239046</td>\n",
              "      <td>0.932581</td>\n",
              "      <td>01:07</td>\n",
              "    </tr>\n",
              "    <tr>\n",
              "      <td>3</td>\n",
              "      <td>0.237784</td>\n",
              "      <td>0.214554</td>\n",
              "      <td>0.929591</td>\n",
              "      <td>01:04</td>\n",
              "    </tr>\n",
              "    <tr>\n",
              "      <td>4</td>\n",
              "      <td>0.207749</td>\n",
              "      <td>0.215028</td>\n",
              "      <td>0.928927</td>\n",
              "      <td>01:03</td>\n",
              "    </tr>\n",
              "  </tbody>\n",
              "</table>"
            ]
          },
          "metadata": {}
        },
        {
          "output_type": "stream",
          "name": "stdout",
          "text": [
            "No improvement since epoch 2: early stopping\n"
          ]
        }
      ],
      "source": [
        "# run for 10 epochs\n",
        "alexnet_learner.fit_one_cycle(10, lr_max=current_lr, cbs=[EarlyStoppingCallback(monitor='accuracy', patience=2, comp=np.greater)])"
      ]
    },
    {
      "cell_type": "code",
      "execution_count": null,
      "metadata": {
        "id": "qjHKJ0_QsD-S"
      },
      "outputs": [],
      "source": [
        "#Delete Cuda Cache\n",
        "del alexnet_learner,\n",
        "\n",
        "torch.cuda.empty_cache()"
      ]
    },
    {
      "cell_type": "markdown",
      "metadata": {
        "id": "cbzMTRmcrr56"
      },
      "source": [
        "###3. Modell - SGD"
      ]
    },
    {
      "cell_type": "code",
      "execution_count": null,
      "metadata": {
        "id": "wMK6DIaBrsNC",
        "colab": {
          "base_uri": "https://localhost:8080/"
        },
        "outputId": "953619dc-5386-453c-be96-ce7dd0a76da9"
      },
      "outputs": [
        {
          "output_type": "stream",
          "name": "stdout",
          "text": [
            "https://app.neptune.ai/tds-ws23/Sven-models/e/SVEN-109\n"
          ]
        },
        {
          "output_type": "stream",
          "name": "stderr",
          "text": [
            "Downloading: \"https://download.pytorch.org/models/alexnet-owt-7be5be79.pth\" to /root/.cache/torch/hub/checkpoints/alexnet-owt-7be5be79.pth\n",
            "100%|██████████| 233M/233M [00:01<00:00, 149MB/s]\n"
          ]
        }
      ],
      "source": [
        "run_alexnet = neptune.init_run(project='tds-ws23/Sven-models', api_token=\"eyJhcGlfYWRkcmVzcyI6Imh0dHBzOi8vYXBwLm5lcHR1bmUuYWkiLCJhcGlfdXJsIjoiaHR0cHM6Ly9hcHAubmVwdHVuZS5haSIsImFwaV9rZXkiOiIzZWFhNDQ1ZS1mNTI0LTQ3MGUtOTY5MC02NDZlZGE1NmY4NTEifQ==\",\n",
        "                   tags=\"alexnet\")\n",
        "\n",
        "# Neptune callback object\n",
        "\n",
        "neptune_cbk = NeptuneCallback(run=run_alexnet)\n",
        "\n",
        "# Create a fast ai learner and pass the model and NeptuneCallback parameters including the specific run\n",
        "\n",
        "alexnet_learner = cnn_learner(dls, alexnet, cbs=[neptune_cbk], metrics=accuracy, opt_func=SGD)\n"
      ]
    },
    {
      "cell_type": "code",
      "execution_count": null,
      "metadata": {
        "id": "xtO6BjKsr7aV",
        "colab": {
          "base_uri": "https://localhost:8080/",
          "height": 454
        },
        "outputId": "f080ba5d-a4bf-41f2-c845-c1f4a46e5437"
      },
      "outputs": [
        {
          "output_type": "display_data",
          "data": {
            "text/plain": [
              "<IPython.core.display.HTML object>"
            ],
            "text/html": [
              "\n",
              "<style>\n",
              "    /* Turns off some styling */\n",
              "    progress {\n",
              "        /* gets rid of default border in Firefox and Opera. */\n",
              "        border: none;\n",
              "        /* Needs to be in here for Safari polyfill so background images work as expected. */\n",
              "        background-size: auto;\n",
              "    }\n",
              "    progress:not([value]), progress:not([value])::-webkit-progress-bar {\n",
              "        background: repeating-linear-gradient(45deg, #7e7e7e, #7e7e7e 10px, #5c5c5c 10px, #5c5c5c 20px);\n",
              "    }\n",
              "    .progress-bar-interrupted, .progress-bar-interrupted::-webkit-progress-bar {\n",
              "        background: #F44336;\n",
              "    }\n",
              "</style>\n"
            ]
          },
          "metadata": {}
        },
        {
          "output_type": "display_data",
          "data": {
            "text/plain": [
              "<IPython.core.display.HTML object>"
            ],
            "text/html": []
          },
          "metadata": {}
        },
        {
          "output_type": "display_data",
          "data": {
            "text/plain": [
              "<Figure size 640x480 with 1 Axes>"
            ],
            "image/png": "[encoded data removed]"
          },
          "metadata": {}
        }
      ],
      "source": [
        "current_lr = alexnet_learner.lr_find()"
      ]
    },
    {
      "cell_type": "code",
      "execution_count": null,
      "metadata": {
        "id": "-zb2RN7IsAjK",
        "colab": {
          "base_uri": "https://localhost:8080/",
          "height": 350
        },
        "outputId": "19520d02-c4fb-43ae-c96c-d8b9b3b0fdd6"
      },
      "outputs": [
        {
          "output_type": "display_data",
          "data": {
            "text/plain": [
              "<IPython.core.display.HTML object>"
            ],
            "text/html": [
              "\n",
              "<style>\n",
              "    /* Turns off some styling */\n",
              "    progress {\n",
              "        /* gets rid of default border in Firefox and Opera. */\n",
              "        border: none;\n",
              "        /* Needs to be in here for Safari polyfill so background images work as expected. */\n",
              "        background-size: auto;\n",
              "    }\n",
              "    progress:not([value]), progress:not([value])::-webkit-progress-bar {\n",
              "        background: repeating-linear-gradient(45deg, #7e7e7e, #7e7e7e 10px, #5c5c5c 10px, #5c5c5c 20px);\n",
              "    }\n",
              "    .progress-bar-interrupted, .progress-bar-interrupted::-webkit-progress-bar {\n",
              "        background: #F44336;\n",
              "    }\n",
              "</style>\n"
            ]
          },
          "metadata": {}
        },
        {
          "output_type": "display_data",
          "data": {
            "text/plain": [
              "<IPython.core.display.HTML object>"
            ],
            "text/html": [
              "<table border=\"1\" class=\"dataframe\">\n",
              "  <thead>\n",
              "    <tr style=\"text-align: left;\">\n",
              "      <th>epoch</th>\n",
              "      <th>train_loss</th>\n",
              "      <th>valid_loss</th>\n",
              "      <th>accuracy</th>\n",
              "      <th>time</th>\n",
              "    </tr>\n",
              "  </thead>\n",
              "  <tbody>\n",
              "    <tr>\n",
              "      <td>0</td>\n",
              "      <td>1.069393</td>\n",
              "      <td>0.666958</td>\n",
              "      <td>0.700100</td>\n",
              "      <td>01:06</td>\n",
              "    </tr>\n",
              "    <tr>\n",
              "      <td>1</td>\n",
              "      <td>0.655836</td>\n",
              "      <td>0.444179</td>\n",
              "      <td>0.885088</td>\n",
              "      <td>01:02</td>\n",
              "    </tr>\n",
              "    <tr>\n",
              "      <td>2</td>\n",
              "      <td>0.438423</td>\n",
              "      <td>0.325741</td>\n",
              "      <td>0.914314</td>\n",
              "      <td>01:04</td>\n",
              "    </tr>\n",
              "    <tr>\n",
              "      <td>3</td>\n",
              "      <td>0.378327</td>\n",
              "      <td>0.272685</td>\n",
              "      <td>0.927599</td>\n",
              "      <td>01:02</td>\n",
              "    </tr>\n",
              "    <tr>\n",
              "      <td>4</td>\n",
              "      <td>0.334146</td>\n",
              "      <td>0.249175</td>\n",
              "      <td>0.929259</td>\n",
              "      <td>01:05</td>\n",
              "    </tr>\n",
              "    <tr>\n",
              "      <td>5</td>\n",
              "      <td>0.289020</td>\n",
              "      <td>0.243430</td>\n",
              "      <td>0.929591</td>\n",
              "      <td>01:07</td>\n",
              "    </tr>\n",
              "    <tr>\n",
              "      <td>6</td>\n",
              "      <td>0.309627</td>\n",
              "      <td>0.231152</td>\n",
              "      <td>0.931916</td>\n",
              "      <td>01:05</td>\n",
              "    </tr>\n",
              "    <tr>\n",
              "      <td>7</td>\n",
              "      <td>0.300865</td>\n",
              "      <td>0.231802</td>\n",
              "      <td>0.930256</td>\n",
              "      <td>01:06</td>\n",
              "    </tr>\n",
              "    <tr>\n",
              "      <td>8</td>\n",
              "      <td>0.313665</td>\n",
              "      <td>0.226905</td>\n",
              "      <td>0.930920</td>\n",
              "      <td>01:09</td>\n",
              "    </tr>\n",
              "  </tbody>\n",
              "</table>"
            ]
          },
          "metadata": {}
        },
        {
          "output_type": "stream",
          "name": "stdout",
          "text": [
            "No improvement since epoch 6: early stopping\n"
          ]
        }
      ],
      "source": [
        "# run for 10 epochs\n",
        "alexnet_learner.fit_one_cycle(10, lr_max=current_lr, cbs=[EarlyStoppingCallback(monitor='accuracy', patience=2, comp=np.greater)])"
      ]
    },
    {
      "cell_type": "code",
      "execution_count": null,
      "metadata": {
        "id": "0vXU0kH6sEZn"
      },
      "outputs": [],
      "source": [
        "#Delete Cuda Cache\n",
        "alexnet_learner,\n",
        "\n",
        "torch.cuda.empty_cache()"
      ]
    },
    {
      "cell_type": "markdown",
      "source": [
        "#Best Models with augmented Data Set"
      ],
      "metadata": {
        "id": "wpxT-_9-yjeC"
      }
    },
    {
      "cell_type": "markdown",
      "source": [
        "In this section the best performing models are optimized using an augmented Dataset as described above."
      ],
      "metadata": {
        "id": "zPyKuEVm4Qdc"
      }
    },
    {
      "cell_type": "markdown",
      "source": [
        "##1. Densenet121 with Adam\n",
        "*   Batch size: 64\n",
        "*   former Accuracy: 93,52%\n",
        "\n",
        "-->new Accuracy: 94,39%\n"
      ],
      "metadata": {
        "id": "6M2c0464yndK"
      }
    },
    {
      "cell_type": "code",
      "source": [
        "run_densenet121 = neptune.init_run(project='tds-ws23/Sven-models', api_token=\"eyJhcGlfYWRkcmVzcyI6Imh0dHBzOi8vYXBwLm5lcHR1bmUuYWkiLCJhcGlfdXJsIjoiaHR0cHM6Ly9hcHAubmVwdHVuZS5haSIsImFwaV9rZXkiOiIzZWFhNDQ1ZS1mNTI0LTQ3MGUtOTY5MC02NDZlZGE1NmY4NTEifQ==\",\n",
        "                   tags=\"best_models\")\n",
        "\n",
        "# Neptune callback object\n",
        "\n",
        "neptune_cbk = NeptuneCallback(run=run_densenet121)\n",
        "\n",
        "# Create a fast ai learner and pass the model and NeptuneCallback parameters including the specific run\n",
        "\n",
        "densenet121_learner = cnn_learner(dls, densenet121, cbs=[neptune_cbk], metrics=accuracy, opt_func=Adam)\n"
      ],
      "metadata": {
        "colab": {
          "base_uri": "https://localhost:8080/"
        },
        "id": "hJW6rHf4zLV5",
        "outputId": "ecf5714f-7085-4578-f6ac-9bbd1ffcb3fe"
      },
      "execution_count": null,
      "outputs": [
        {
          "output_type": "stream",
          "name": "stdout",
          "text": [
            "https://app.neptune.ai/tds-ws23/Sven-models/e/SVEN-108\n"
          ]
        },
        {
          "output_type": "stream",
          "name": "stderr",
          "text": [
            "/usr/local/lib/python3.10/dist-packages/fastai/vision/learner.py:301: UserWarning: `cnn_learner` has been renamed to `vision_learner` -- please update your code\n",
            "  warn(\"`cnn_learner` has been renamed to `vision_learner` -- please update your code\")\n",
            "/usr/local/lib/python3.10/dist-packages/neptune_fastai/impl/__init__.py:247: UserWarning: NeptuneCallback: SaveModelCallback is necessary for uploading model checkpoints.\n",
            "  warnings.warn(\"NeptuneCallback: SaveModelCallback is necessary for uploading model checkpoints.\")\n"
          ]
        }
      ]
    },
    {
      "cell_type": "code",
      "source": [
        "%%capture\n",
        "current_lr = densenet121_learner.lr_find()"
      ],
      "metadata": {
        "id": "2xIAND7yHnYy"
      },
      "execution_count": null,
      "outputs": []
    },
    {
      "cell_type": "code",
      "source": [
        "densenet121_learner.fit_one_cycle(10, lr_max=current_lr, cbs=[EarlyStoppingCallback(monitor='accuracy', patience=4, comp=np.greater)])"
      ],
      "metadata": {
        "colab": {
          "base_uri": "https://localhost:8080/",
          "height": 363
        },
        "id": "vYKvFFOs0Alg",
        "outputId": "de314030-7581-4222-ed41-1574ccb77731"
      },
      "execution_count": null,
      "outputs": [
        {
          "output_type": "display_data",
          "data": {
            "text/plain": [
              "<IPython.core.display.HTML object>"
            ],
            "text/html": [
              "\n",
              "<style>\n",
              "    /* Turns off some styling */\n",
              "    progress {\n",
              "        /* gets rid of default border in Firefox and Opera. */\n",
              "        border: none;\n",
              "        /* Needs to be in here for Safari polyfill so background images work as expected. */\n",
              "        background-size: auto;\n",
              "    }\n",
              "    progress:not([value]), progress:not([value])::-webkit-progress-bar {\n",
              "        background: repeating-linear-gradient(45deg, #7e7e7e, #7e7e7e 10px, #5c5c5c 10px, #5c5c5c 20px);\n",
              "    }\n",
              "    .progress-bar-interrupted, .progress-bar-interrupted::-webkit-progress-bar {\n",
              "        background: #F44336;\n",
              "    }\n",
              "</style>\n"
            ]
          },
          "metadata": {}
        },
        {
          "output_type": "display_data",
          "data": {
            "text/plain": [
              "<IPython.core.display.HTML object>"
            ],
            "text/html": [
              "<table border=\"1\" class=\"dataframe\">\n",
              "  <thead>\n",
              "    <tr style=\"text-align: left;\">\n",
              "      <th>epoch</th>\n",
              "      <th>train_loss</th>\n",
              "      <th>valid_loss</th>\n",
              "      <th>accuracy</th>\n",
              "      <th>time</th>\n",
              "    </tr>\n",
              "  </thead>\n",
              "  <tbody>\n",
              "    <tr>\n",
              "      <td>0</td>\n",
              "      <td>0.673811</td>\n",
              "      <td>0.337820</td>\n",
              "      <td>0.914476</td>\n",
              "      <td>02:14</td>\n",
              "    </tr>\n",
              "    <tr>\n",
              "      <td>1</td>\n",
              "      <td>0.260987</td>\n",
              "      <td>0.218364</td>\n",
              "      <td>0.942166</td>\n",
              "      <td>02:13</td>\n",
              "    </tr>\n",
              "    <tr>\n",
              "      <td>2</td>\n",
              "      <td>0.246180</td>\n",
              "      <td>0.208309</td>\n",
              "      <td>0.941115</td>\n",
              "      <td>02:14</td>\n",
              "    </tr>\n",
              "    <tr>\n",
              "      <td>3</td>\n",
              "      <td>0.243140</td>\n",
              "      <td>0.191308</td>\n",
              "      <td>0.943568</td>\n",
              "      <td>02:13</td>\n",
              "    </tr>\n",
              "    <tr>\n",
              "      <td>4</td>\n",
              "      <td>0.221105</td>\n",
              "      <td>0.187240</td>\n",
              "      <td>0.935506</td>\n",
              "      <td>02:13</td>\n",
              "    </tr>\n",
              "    <tr>\n",
              "      <td>5</td>\n",
              "      <td>0.210370</td>\n",
              "      <td>0.182424</td>\n",
              "      <td>0.935156</td>\n",
              "      <td>02:20</td>\n",
              "    </tr>\n",
              "    <tr>\n",
              "      <td>6</td>\n",
              "      <td>0.188678</td>\n",
              "      <td>0.189006</td>\n",
              "      <td>0.943919</td>\n",
              "      <td>02:16</td>\n",
              "    </tr>\n",
              "    <tr>\n",
              "      <td>7</td>\n",
              "      <td>0.201031</td>\n",
              "      <td>0.176547</td>\n",
              "      <td>0.939713</td>\n",
              "      <td>02:15</td>\n",
              "    </tr>\n",
              "    <tr>\n",
              "      <td>8</td>\n",
              "      <td>0.185754</td>\n",
              "      <td>0.174588</td>\n",
              "      <td>0.937960</td>\n",
              "      <td>02:19</td>\n",
              "    </tr>\n",
              "    <tr>\n",
              "      <td>9</td>\n",
              "      <td>0.191690</td>\n",
              "      <td>0.174870</td>\n",
              "      <td>0.937610</td>\n",
              "      <td>02:19</td>\n",
              "    </tr>\n",
              "  </tbody>\n",
              "</table>"
            ]
          },
          "metadata": {}
        }
      ]
    },
    {
      "cell_type": "code",
      "source": [
        "#Delete Cuda Cache\n",
        "del densenet121_learner,\n",
        "\n",
        "torch.cuda.empty_cache()"
      ],
      "metadata": {
        "id": "1H3Aa45V7its"
      },
      "execution_count": null,
      "outputs": []
    },
    {
      "cell_type": "markdown",
      "source": [
        "##2. Densenet169 with Adam\n",
        "*   Batch size: 64\n",
        "*   former Accuracy: 93,32%\n",
        "\n",
        "-->new Accuracy: 94,35%"
      ],
      "metadata": {
        "id": "-cjMcfmW75H6"
      }
    },
    {
      "cell_type": "code",
      "source": [
        "run_densenet169 = neptune.init_run(project='tds-ws23/Sven-models', api_token=\"eyJhcGlfYWRkcmVzcyI6Imh0dHBzOi8vYXBwLm5lcHR1bmUuYWkiLCJhcGlfdXJsIjoiaHR0cHM6Ly9hcHAubmVwdHVuZS5haSIsImFwaV9rZXkiOiIzZWFhNDQ1ZS1mNTI0LTQ3MGUtOTY5MC02NDZlZGE1NmY4NTEifQ==\",\n",
        "                   tags=\"best_models\")\n",
        "\n",
        "# Neptune callback object\n",
        "\n",
        "neptune_cbk = NeptuneCallback(run=run_densenet169)\n",
        "\n",
        "# Create a fast ai learner and pass the model and NeptuneCallback parameters including the specific run\n",
        "\n",
        "densenet169_learner = cnn_learner(dls, densenet169, cbs=[neptune_cbk], metrics=accuracy, opt_func=Adam)"
      ],
      "metadata": {
        "colab": {
          "base_uri": "https://localhost:8080/"
        },
        "id": "bWAIxnPg8lnY",
        "outputId": "45601a15-72d7-42de-a193-e952f848abee"
      },
      "execution_count": null,
      "outputs": [
        {
          "output_type": "stream",
          "name": "stdout",
          "text": [
            "https://app.neptune.ai/tds-ws23/Sven-models/e/SVEN-104\n"
          ]
        },
        {
          "output_type": "stream",
          "name": "stderr",
          "text": [
            "/usr/local/lib/python3.10/dist-packages/fastai/vision/learner.py:301: UserWarning: `cnn_learner` has been renamed to `vision_learner` -- please update your code\n",
            "  warn(\"`cnn_learner` has been renamed to `vision_learner` -- please update your code\")\n",
            "Downloading: \"https://download.pytorch.org/models/densenet169-b2777c0a.pth\" to /root/.cache/torch/hub/checkpoints/densenet169-b2777c0a.pth\n",
            "100%|██████████| 54.7M/54.7M [00:00<00:00, 143MB/s]\n",
            "/usr/local/lib/python3.10/dist-packages/neptune_fastai/impl/__init__.py:247: UserWarning: NeptuneCallback: SaveModelCallback is necessary for uploading model checkpoints.\n",
            "  warnings.warn(\"NeptuneCallback: SaveModelCallback is necessary for uploading model checkpoints.\")\n"
          ]
        }
      ]
    },
    {
      "cell_type": "code",
      "source": [
        "%%capture\n",
        "current_lr = densenet169_learner.lr_find()"
      ],
      "metadata": {
        "id": "VwsphUDQ8sbF"
      },
      "execution_count": null,
      "outputs": []
    },
    {
      "cell_type": "code",
      "source": [
        "densenet169_learner.fit_one_cycle(10, lr_max=current_lr, cbs=[EarlyStoppingCallback(monitor='accuracy', patience=4, comp=np.greater)])"
      ],
      "metadata": {
        "colab": {
          "base_uri": "https://localhost:8080/",
          "height": 318
        },
        "id": "9DtQ8OdW83tC",
        "outputId": "683eeda9-7496-44ae-b7a5-a67431e31e16"
      },
      "execution_count": null,
      "outputs": [
        {
          "output_type": "display_data",
          "data": {
            "text/plain": [
              "<IPython.core.display.HTML object>"
            ],
            "text/html": [
              "\n",
              "<style>\n",
              "    /* Turns off some styling */\n",
              "    progress {\n",
              "        /* gets rid of default border in Firefox and Opera. */\n",
              "        border: none;\n",
              "        /* Needs to be in here for Safari polyfill so background images work as expected. */\n",
              "        background-size: auto;\n",
              "    }\n",
              "    progress:not([value]), progress:not([value])::-webkit-progress-bar {\n",
              "        background: repeating-linear-gradient(45deg, #7e7e7e, #7e7e7e 10px, #5c5c5c 10px, #5c5c5c 20px);\n",
              "    }\n",
              "    .progress-bar-interrupted, .progress-bar-interrupted::-webkit-progress-bar {\n",
              "        background: #F44336;\n",
              "    }\n",
              "</style>\n"
            ]
          },
          "metadata": {}
        },
        {
          "output_type": "display_data",
          "data": {
            "text/plain": [
              "<IPython.core.display.HTML object>"
            ],
            "text/html": [
              "<table border=\"1\" class=\"dataframe\">\n",
              "  <thead>\n",
              "    <tr style=\"text-align: left;\">\n",
              "      <th>epoch</th>\n",
              "      <th>train_loss</th>\n",
              "      <th>valid_loss</th>\n",
              "      <th>accuracy</th>\n",
              "      <th>time</th>\n",
              "    </tr>\n",
              "  </thead>\n",
              "  <tbody>\n",
              "    <tr>\n",
              "      <td>0</td>\n",
              "      <td>0.803018</td>\n",
              "      <td>0.515519</td>\n",
              "      <td>0.766562</td>\n",
              "      <td>02:47</td>\n",
              "    </tr>\n",
              "    <tr>\n",
              "      <td>1</td>\n",
              "      <td>0.302542</td>\n",
              "      <td>0.218109</td>\n",
              "      <td>0.942867</td>\n",
              "      <td>02:47</td>\n",
              "    </tr>\n",
              "    <tr>\n",
              "      <td>2</td>\n",
              "      <td>0.255963</td>\n",
              "      <td>0.190451</td>\n",
              "      <td>0.939012</td>\n",
              "      <td>02:44</td>\n",
              "    </tr>\n",
              "    <tr>\n",
              "      <td>3</td>\n",
              "      <td>0.217893</td>\n",
              "      <td>0.186371</td>\n",
              "      <td>0.943568</td>\n",
              "      <td>02:40</td>\n",
              "    </tr>\n",
              "    <tr>\n",
              "      <td>4</td>\n",
              "      <td>0.209881</td>\n",
              "      <td>0.194514</td>\n",
              "      <td>0.933403</td>\n",
              "      <td>02:40</td>\n",
              "    </tr>\n",
              "    <tr>\n",
              "      <td>5</td>\n",
              "      <td>0.188944</td>\n",
              "      <td>0.174190</td>\n",
              "      <td>0.942867</td>\n",
              "      <td>02:41</td>\n",
              "    </tr>\n",
              "    <tr>\n",
              "      <td>6</td>\n",
              "      <td>0.187719</td>\n",
              "      <td>0.176769</td>\n",
              "      <td>0.938311</td>\n",
              "      <td>02:41</td>\n",
              "    </tr>\n",
              "    <tr>\n",
              "      <td>7</td>\n",
              "      <td>0.181120</td>\n",
              "      <td>0.175864</td>\n",
              "      <td>0.937259</td>\n",
              "      <td>02:41</td>\n",
              "    </tr>\n",
              "  </tbody>\n",
              "</table>"
            ]
          },
          "metadata": {}
        },
        {
          "output_type": "stream",
          "name": "stdout",
          "text": [
            "No improvement since epoch 3: early stopping\n"
          ]
        }
      ]
    },
    {
      "cell_type": "code",
      "source": [
        "#Delete Cuda Cache\n",
        "del densenet169_learner,\n",
        "\n",
        "torch.cuda.empty_cache()"
      ],
      "metadata": {
        "id": "rVeOkB0h895A"
      },
      "execution_count": null,
      "outputs": []
    },
    {
      "cell_type": "markdown",
      "source": [
        "##3.1 Squeezenet1_0 with Adam\n",
        "*   Batch size: 64\n",
        "*   former Accuracy: 93,12%\n",
        "-->new Accuracy: 94,39%"
      ],
      "metadata": {
        "id": "BXWg7nTP9AYx"
      }
    },
    {
      "cell_type": "code",
      "source": [
        "%%capture\n",
        "run_Squeezenet1_0 = neptune.init_run(project='tds-ws23/Sven-models', api_token=\"eyJhcGlfYWRkcmVzcyI6Imh0dHBzOi8vYXBwLm5lcHR1bmUuYWkiLCJhcGlfdXJsIjoiaHR0cHM6Ly9hcHAubmVwdHVuZS5haSIsImFwaV9rZXkiOiIzZWFhNDQ1ZS1mNTI0LTQ3MGUtOTY5MC02NDZlZGE1NmY4NTEifQ==\",\n",
        "                   tags=\"best_models\")\n",
        "\n",
        "# Neptune callback object\n",
        "\n",
        "neptune_cbk = NeptuneCallback(run=run_Squeezenet1_0)\n",
        "\n",
        "# Create a fast ai learner and pass the model and NeptuneCallback parameters including the specific run\n",
        "\n",
        "squeezenet1_0_learner = cnn_learner(dls, squeezenet1_0, cbs=[neptune_cbk], metrics=accuracy, opt_func=Adam)"
      ],
      "metadata": {
        "id": "CF8qO8us9lCi"
      },
      "execution_count": null,
      "outputs": []
    },
    {
      "cell_type": "code",
      "source": [
        "%%capture\n",
        "current_lr = squeezenet1_0_learner.lr_find()"
      ],
      "metadata": {
        "id": "Kzs2-gK09r_f"
      },
      "execution_count": null,
      "outputs": []
    },
    {
      "cell_type": "code",
      "source": [
        "squeezenet1_0_learner.fit_one_cycle(10, lr_max=current_lr, cbs=[EarlyStoppingCallback(monitor='accuracy', patience=4, comp=np.greater)])"
      ],
      "metadata": {
        "colab": {
          "base_uri": "https://localhost:8080/",
          "height": 381
        },
        "id": "pl70dU4-9zXn",
        "outputId": "8d3f8a9f-5162-477b-fbfb-8e2f47ab5611"
      },
      "execution_count": null,
      "outputs": [
        {
          "output_type": "display_data",
          "data": {
            "text/plain": [
              "<IPython.core.display.HTML object>"
            ],
            "text/html": [
              "\n",
              "<style>\n",
              "    /* Turns off some styling */\n",
              "    progress {\n",
              "        /* gets rid of default border in Firefox and Opera. */\n",
              "        border: none;\n",
              "        /* Needs to be in here for Safari polyfill so background images work as expected. */\n",
              "        background-size: auto;\n",
              "    }\n",
              "    progress:not([value]), progress:not([value])::-webkit-progress-bar {\n",
              "        background: repeating-linear-gradient(45deg, #7e7e7e, #7e7e7e 10px, #5c5c5c 10px, #5c5c5c 20px);\n",
              "    }\n",
              "    .progress-bar-interrupted, .progress-bar-interrupted::-webkit-progress-bar {\n",
              "        background: #F44336;\n",
              "    }\n",
              "</style>\n"
            ]
          },
          "metadata": {}
        },
        {
          "output_type": "display_data",
          "data": {
            "text/plain": [
              "<IPython.core.display.HTML object>"
            ],
            "text/html": [
              "<table border=\"1\" class=\"dataframe\">\n",
              "  <thead>\n",
              "    <tr style=\"text-align: left;\">\n",
              "      <th>epoch</th>\n",
              "      <th>train_loss</th>\n",
              "      <th>valid_loss</th>\n",
              "      <th>accuracy</th>\n",
              "      <th>time</th>\n",
              "    </tr>\n",
              "  </thead>\n",
              "  <tbody>\n",
              "    <tr>\n",
              "      <td>0</td>\n",
              "      <td>0.504321</td>\n",
              "      <td>0.253576</td>\n",
              "      <td>0.929548</td>\n",
              "      <td>01:00</td>\n",
              "    </tr>\n",
              "    <tr>\n",
              "      <td>1</td>\n",
              "      <td>0.266003</td>\n",
              "      <td>0.203016</td>\n",
              "      <td>0.938311</td>\n",
              "      <td>00:58</td>\n",
              "    </tr>\n",
              "    <tr>\n",
              "      <td>2</td>\n",
              "      <td>0.256325</td>\n",
              "      <td>0.226205</td>\n",
              "      <td>0.937259</td>\n",
              "      <td>00:59</td>\n",
              "    </tr>\n",
              "    <tr>\n",
              "      <td>3</td>\n",
              "      <td>0.245255</td>\n",
              "      <td>0.209706</td>\n",
              "      <td>0.943218</td>\n",
              "      <td>00:55</td>\n",
              "    </tr>\n",
              "    <tr>\n",
              "      <td>4</td>\n",
              "      <td>0.217314</td>\n",
              "      <td>0.214381</td>\n",
              "      <td>0.934104</td>\n",
              "      <td>00:54</td>\n",
              "    </tr>\n",
              "    <tr>\n",
              "      <td>5</td>\n",
              "      <td>0.221629</td>\n",
              "      <td>0.192349</td>\n",
              "      <td>0.943919</td>\n",
              "      <td>00:51</td>\n",
              "    </tr>\n",
              "    <tr>\n",
              "      <td>6</td>\n",
              "      <td>0.195917</td>\n",
              "      <td>0.178902</td>\n",
              "      <td>0.943218</td>\n",
              "      <td>00:56</td>\n",
              "    </tr>\n",
              "    <tr>\n",
              "      <td>7</td>\n",
              "      <td>0.193847</td>\n",
              "      <td>0.182146</td>\n",
              "      <td>0.939012</td>\n",
              "      <td>01:03</td>\n",
              "    </tr>\n",
              "    <tr>\n",
              "      <td>8</td>\n",
              "      <td>0.176939</td>\n",
              "      <td>0.180718</td>\n",
              "      <td>0.941465</td>\n",
              "      <td>00:52</td>\n",
              "    </tr>\n",
              "    <tr>\n",
              "      <td>9</td>\n",
              "      <td>0.182754</td>\n",
              "      <td>0.179178</td>\n",
              "      <td>0.942166</td>\n",
              "      <td>00:58</td>\n",
              "    </tr>\n",
              "  </tbody>\n",
              "</table>"
            ]
          },
          "metadata": {}
        },
        {
          "output_type": "stream",
          "name": "stdout",
          "text": [
            "No improvement since epoch 5: early stopping\n"
          ]
        }
      ]
    },
    {
      "cell_type": "code",
      "source": [
        " #Delete Cuda Cache\n",
        "del squeezenet1_0_learner,\n",
        "\n",
        "torch.cuda.empty_cache()"
      ],
      "metadata": {
        "id": "JAfAStnX95zN"
      },
      "execution_count": null,
      "outputs": []
    },
    {
      "cell_type": "markdown",
      "source": [
        "##3.2 Squeezenet1_1 with SGD\n",
        "*   Batch size: 64\n",
        "*   former Accuracy: 93,12%\n",
        "--> new Accuracy: 93,55%"
      ],
      "metadata": {
        "id": "qRdfBE_U9VUK"
      }
    },
    {
      "cell_type": "code",
      "source": [
        "run_Squeezenet1_1 = neptune.init_run(project='tds-ws23/Sven-models', api_token=\"eyJhcGlfYWRkcmVzcyI6Imh0dHBzOi8vYXBwLm5lcHR1bmUuYWkiLCJhcGlfdXJsIjoiaHR0cHM6Ly9hcHAubmVwdHVuZS5haSIsImFwaV9rZXkiOiIzZWFhNDQ1ZS1mNTI0LTQ3MGUtOTY5MC02NDZlZGE1NmY4NTEifQ==\",\n",
        "                   tags=\"best_models\")\n",
        "\n",
        "# Neptune callback object\n",
        "\n",
        "neptune_cbk = NeptuneCallback(run=run_Squeezenet1_1)\n",
        "\n",
        "# Create a fast ai learner and pass the model and NeptuneCallback parameters including the specific run\n",
        "\n",
        "squeezenet1_1_learner = cnn_learner(dls, squeezenet1_1, cbs=[neptune_cbk], metrics=accuracy, opt_func=SGD)"
      ],
      "metadata": {
        "colab": {
          "base_uri": "https://localhost:8080/"
        },
        "id": "VkYB1w_w-KZE",
        "outputId": "e7749ed5-59a0-497e-9396-ab59a0aa045e"
      },
      "execution_count": null,
      "outputs": [
        {
          "output_type": "stream",
          "name": "stdout",
          "text": [
            "https://app.neptune.ai/tds-ws23/Sven-models/e/SVEN-107\n"
          ]
        },
        {
          "output_type": "stream",
          "name": "stderr",
          "text": [
            "/usr/local/lib/python3.10/dist-packages/fastai/vision/learner.py:301: UserWarning: `cnn_learner` has been renamed to `vision_learner` -- please update your code\n",
            "  warn(\"`cnn_learner` has been renamed to `vision_learner` -- please update your code\")\n",
            "Downloading: \"https://download.pytorch.org/models/squeezenet1_1-b8a52dc0.pth\" to /root/.cache/torch/hub/checkpoints/squeezenet1_1-b8a52dc0.pth\n",
            "100%|██████████| 4.73M/4.73M [00:00<00:00, 60.1MB/s]\n",
            "/usr/local/lib/python3.10/dist-packages/neptune_fastai/impl/__init__.py:247: UserWarning: NeptuneCallback: SaveModelCallback is necessary for uploading model checkpoints.\n",
            "  warnings.warn(\"NeptuneCallback: SaveModelCallback is necessary for uploading model checkpoints.\")\n"
          ]
        }
      ]
    },
    {
      "cell_type": "code",
      "source": [
        "%%capture\n",
        "current_lr = squeezenet1_1_learner.lr_find()"
      ],
      "metadata": {
        "id": "e3_TPD_f-VHV"
      },
      "execution_count": null,
      "outputs": []
    },
    {
      "cell_type": "code",
      "source": [
        "squeezenet1_1_learner.fit_one_cycle(10, lr_max=current_lr, cbs=[EarlyStoppingCallback(monitor='accuracy', patience=4, comp=np.greater)])"
      ],
      "metadata": {
        "colab": {
          "base_uri": "https://localhost:8080/",
          "height": 363
        },
        "id": "Y6LBUcDR-W2e",
        "outputId": "4d7bd039-bb58-4e31-8a19-f61bc749eceb"
      },
      "execution_count": null,
      "outputs": [
        {
          "output_type": "display_data",
          "data": {
            "text/plain": [
              "<IPython.core.display.HTML object>"
            ],
            "text/html": [
              "\n",
              "<style>\n",
              "    /* Turns off some styling */\n",
              "    progress {\n",
              "        /* gets rid of default border in Firefox and Opera. */\n",
              "        border: none;\n",
              "        /* Needs to be in here for Safari polyfill so background images work as expected. */\n",
              "        background-size: auto;\n",
              "    }\n",
              "    progress:not([value]), progress:not([value])::-webkit-progress-bar {\n",
              "        background: repeating-linear-gradient(45deg, #7e7e7e, #7e7e7e 10px, #5c5c5c 10px, #5c5c5c 20px);\n",
              "    }\n",
              "    .progress-bar-interrupted, .progress-bar-interrupted::-webkit-progress-bar {\n",
              "        background: #F44336;\n",
              "    }\n",
              "</style>\n"
            ]
          },
          "metadata": {}
        },
        {
          "output_type": "display_data",
          "data": {
            "text/plain": [
              "<IPython.core.display.HTML object>"
            ],
            "text/html": [
              "<table border=\"1\" class=\"dataframe\">\n",
              "  <thead>\n",
              "    <tr style=\"text-align: left;\">\n",
              "      <th>epoch</th>\n",
              "      <th>train_loss</th>\n",
              "      <th>valid_loss</th>\n",
              "      <th>accuracy</th>\n",
              "      <th>time</th>\n",
              "    </tr>\n",
              "  </thead>\n",
              "  <tbody>\n",
              "    <tr>\n",
              "      <td>0</td>\n",
              "      <td>1.123092</td>\n",
              "      <td>0.783851</td>\n",
              "      <td>0.631966</td>\n",
              "      <td>00:54</td>\n",
              "    </tr>\n",
              "    <tr>\n",
              "      <td>1</td>\n",
              "      <td>0.797571</td>\n",
              "      <td>0.484931</td>\n",
              "      <td>0.853137</td>\n",
              "      <td>01:02</td>\n",
              "    </tr>\n",
              "    <tr>\n",
              "      <td>2</td>\n",
              "      <td>0.566179</td>\n",
              "      <td>0.353883</td>\n",
              "      <td>0.901507</td>\n",
              "      <td>00:51</td>\n",
              "    </tr>\n",
              "    <tr>\n",
              "      <td>3</td>\n",
              "      <td>0.438420</td>\n",
              "      <td>0.301508</td>\n",
              "      <td>0.926043</td>\n",
              "      <td>00:50</td>\n",
              "    </tr>\n",
              "    <tr>\n",
              "      <td>4</td>\n",
              "      <td>0.398295</td>\n",
              "      <td>0.267344</td>\n",
              "      <td>0.929898</td>\n",
              "      <td>00:52</td>\n",
              "    </tr>\n",
              "    <tr>\n",
              "      <td>5</td>\n",
              "      <td>0.364262</td>\n",
              "      <td>0.242340</td>\n",
              "      <td>0.933403</td>\n",
              "      <td>00:49</td>\n",
              "    </tr>\n",
              "    <tr>\n",
              "      <td>6</td>\n",
              "      <td>0.346422</td>\n",
              "      <td>0.232684</td>\n",
              "      <td>0.935156</td>\n",
              "      <td>00:49</td>\n",
              "    </tr>\n",
              "    <tr>\n",
              "      <td>7</td>\n",
              "      <td>0.327858</td>\n",
              "      <td>0.230996</td>\n",
              "      <td>0.934805</td>\n",
              "      <td>00:52</td>\n",
              "    </tr>\n",
              "    <tr>\n",
              "      <td>8</td>\n",
              "      <td>0.329000</td>\n",
              "      <td>0.228364</td>\n",
              "      <td>0.934805</td>\n",
              "      <td>00:49</td>\n",
              "    </tr>\n",
              "    <tr>\n",
              "      <td>9</td>\n",
              "      <td>0.313539</td>\n",
              "      <td>0.230024</td>\n",
              "      <td>0.935506</td>\n",
              "      <td>00:49</td>\n",
              "    </tr>\n",
              "  </tbody>\n",
              "</table>"
            ]
          },
          "metadata": {}
        }
      ]
    },
    {
      "cell_type": "code",
      "source": [
        "#Delete Cuda Cache\n",
        "del squeezenet1_1_learner,\n",
        "\n",
        "torch.cuda.empty_cache()"
      ],
      "metadata": {
        "id": "roS73Brq-fDU"
      },
      "execution_count": null,
      "outputs": []
    }
  ],
  "metadata": {
    "accelerator": "GPU",
    "colab": {
      "provenance": []
    },
    "kernelspec": {
      "display_name": "Python 3",
      "name": "python3"
    },
    "language_info": {
      "name": "python"
    }
  },
  "nbformat": 4,
  "nbformat_minor": 0
}