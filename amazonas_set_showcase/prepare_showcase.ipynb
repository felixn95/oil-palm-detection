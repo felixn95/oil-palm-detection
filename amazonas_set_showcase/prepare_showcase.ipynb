{
 "cells": [
  {
   "cell_type": "code",
   "execution_count": 9,
   "metadata": {},
   "outputs": [],
   "source": [
    "import pandas as pd\n",
    "import shutil\n",
    "import os\n",
    "\n",
    "def copy_images_with_tags(source_folder, csv_file, destination_folder, new_csv_file, tags, max_images):\n",
    "    # Read the CSV file\n",
    "    df = pd.read_csv(csv_file)\n",
    "\n",
    "    # Create the search pattern for tags and include 'clear' as a constant requirement\n",
    "    search_pattern = 'clear' + '|' + '|'.join(tags)\n",
    "\n",
    "    # Filter out the images based on the tags and 'clear'\n",
    "    filtered_df = df[df['tags'].str.contains('clear') & df['tags'].str.contains(search_pattern)]\n",
    "\n",
    "    # Limit the number of images based on max_images\n",
    "    filtered_df = filtered_df.head(max_images)\n",
    "\n",
    "    # Ensure the destination folder exists\n",
    "    if not os.path.exists(destination_folder):\n",
    "        os.makedirs(destination_folder)\n",
    "\n",
    "    # Copy the filtered images to the destination folder and save their info to a new CSV\n",
    "    for image_name in filtered_df['image_name']:\n",
    "        source_path = os.path.join(source_folder, image_name + '.jpg')\n",
    "        destination_path = os.path.join(destination_folder, image_name + '.jpg')\n",
    "        shutil.copy(source_path, destination_path)\n",
    "\n",
    "    # Save the filtered DataFrame to a new CSV file\n",
    "    filtered_df.to_csv(os.path.join(destination_folder, new_csv_file), index=False)\n"
   ]
  },
  {
   "cell_type": "code",
   "execution_count": 10,
   "metadata": {},
   "outputs": [],
   "source": [
    "# Only get clear ones with agriculture and cultivation\n",
    "\n",
    "source_folder = r\"C:\\Users\\felix\\Repos\\amazonas_from_space\\planet\\train-jpg\"\n",
    "csv_file = r\"C:\\Users\\felix\\Repos\\amazonas_from_space\\planet\\train_classes.csv\"\n",
    "destination_folder = r\"C:\\Users\\felix\\Repos\\amazonas_from_space\\planet\\agriculture_clear\"\n",
    "target_csv = r\"C:\\Users\\felix\\Repos\\amazonas_from_space\\planet\\filtered_images.csv\"\n",
    "\n",
    "tags = [\"agriculture\", \"cultivation\"]  # List of additional tags to include\n",
    "max_images = 100  # Maximum number of images to copy\n",
    "\n",
    "copy_images_with_tags(source_folder, csv_file, destination_folder, target_csv, tags, max_images)"
   ]
  },
  {
   "cell_type": "code",
   "execution_count": null,
   "metadata": {},
   "outputs": [],
   "source": [
    "# Get random images with different labels\n",
    "\n",
    "source_folder = r\"C:\\Users\\felix\\Repos\\amazonas_from_space\\planet\\train-jpg\"\n",
    "csv_file = r\"C:\\Users\\felix\\Repos\\amazonas_from_space\\planet\\train_classes.csv\"\n",
    "destination_folder = r\"C:\\Users\\felix\\Repos\\amazonas_from_space\\planet\\random_clear\"\n",
    "target_csv = r\"C:\\Users\\felix\\Repos\\amazonas_from_space\\planet\\filtered_images_random.csv\"\n",
    "tags = []  # Empty list for additional tags\n",
    "max_images = 100  # Maximum number of images to copy\n",
    "\n",
    "copy_images_with_tags(source_folder, csv_file, destination_folder, target_csv, tags, max_images)\n"
   ]
  }
 ],
 "metadata": {
  "kernelspec": {
   "display_name": "py311",
   "language": "python",
   "name": "python3"
  },
  "language_info": {
   "codemirror_mode": {
    "name": "ipython",
    "version": 3
   },
   "file_extension": ".py",
   "mimetype": "text/x-python",
   "name": "python",
   "nbconvert_exporter": "python",
   "pygments_lexer": "ipython3",
   "version": "3.11.5"
  }
 },
 "nbformat": 4,
 "nbformat_minor": 2
}
